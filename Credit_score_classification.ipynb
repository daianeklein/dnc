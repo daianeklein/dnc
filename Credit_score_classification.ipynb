{
  "nbformat": 4,
  "nbformat_minor": 0,
  "metadata": {
    "colab": {
      "provenance": [],
      "collapsed_sections": [
        "ou9W4GEkobqO"
      ],
      "authorship_tag": "ABX9TyPiDhJAyG9XY1wFZYehJeu9",
      "include_colab_link": true
    },
    "kernelspec": {
      "name": "python3",
      "display_name": "Python 3"
    },
    "language_info": {
      "name": "python"
    }
  },
  "cells": [
    {
      "cell_type": "markdown",
      "metadata": {
        "id": "view-in-github",
        "colab_type": "text"
      },
      "source": [
        "<a href=\"https://colab.research.google.com/github/daianeklein/dnc/blob/main/Credit_score_classification.ipynb\" target=\"_parent\"><img src=\"https://colab.research.google.com/assets/colab-badge.svg\" alt=\"Open In Colab\"/></a>"
      ]
    },
    {
      "cell_type": "markdown",
      "source": [
        "# CREDIT SCORE CLASSIFICATION\n",
        "\n",
        "***"
      ],
      "metadata": {
        "id": "7KfrKRj-TzMP"
      }
    },
    {
      "cell_type": "markdown",
      "source": [
        "**Credit score** classification is the process of categorizing individuals based on their creditworthiness.\n",
        "\n",
        "It involves using machine learning models to predict individuals' creditworthiness based on their financial and personal data.\n",
        "\n",
        "Models like <font color='orange'>logistic regression</font> , <font color='orange'>decision trees</font> , and <font color='orange'>random forests</font> are employed to analyze the dataset and classify individuals into credit score brackets.\n",
        "\n",
        "## Table of Contents\n",
        "\n",
        "\n",
        "1.   Packages Importing\n",
        "2.   Data Importing\n",
        "\n",
        "\n",
        "\n"
      ],
      "metadata": {
        "id": "xFrs0K3PUDnN"
      }
    },
    {
      "cell_type": "markdown",
      "source": [
        "## Packages Importing"
      ],
      "metadata": {
        "id": "9EtYS5iNsJ0s"
      }
    },
    {
      "cell_type": "code",
      "source": [
        "import numpy as np\n",
        "import pandas as pd\n",
        "import matplotlib.pyplot as plt\n",
        "import seaborn as sns\n",
        "\n",
        "#machine learning\n",
        "from sklearn.preprocessing import RobustScaler, MinMaxScaler, LabelEncoder, StandardScaler\n",
        "from sklearn.model_selection import train_test_split"
      ],
      "metadata": {
        "id": "bCpsvTDisXVj"
      },
      "execution_count": 271,
      "outputs": []
    },
    {
      "cell_type": "markdown",
      "source": [
        "## Data Importing"
      ],
      "metadata": {
        "id": "40UP-FF0soz1"
      }
    },
    {
      "cell_type": "code",
      "source": [
        "df = pd.read_excel('credit_score.xlsx')"
      ],
      "metadata": {
        "id": "DQd7wHwUskmQ"
      },
      "execution_count": 272,
      "outputs": []
    },
    {
      "cell_type": "code",
      "source": [
        "#rows and columns count\n",
        "df.shape"
      ],
      "metadata": {
        "colab": {
          "base_uri": "https://localhost:8080/"
        },
        "id": "A4KMCeGKs9kx",
        "outputId": "40166f46-f8b5-438f-f2e9-dd541df95fe9"
      },
      "execution_count": 273,
      "outputs": [
        {
          "output_type": "execute_result",
          "data": {
            "text/plain": [
              "(72238, 28)"
            ]
          },
          "metadata": {},
          "execution_count": 273
        }
      ]
    },
    {
      "cell_type": "markdown",
      "source": [
        "## Data Exploration"
      ],
      "metadata": {
        "id": "7krLt3E2s3n4"
      }
    },
    {
      "cell_type": "code",
      "source": [
        "#df info\n",
        "df.info()"
      ],
      "metadata": {
        "colab": {
          "base_uri": "https://localhost:8080/"
        },
        "id": "NNMYDJq9t1N_",
        "outputId": "66ac8db3-c48b-4763-e6e1-40a03d8424c4"
      },
      "execution_count": 274,
      "outputs": [
        {
          "output_type": "stream",
          "name": "stdout",
          "text": [
            "<class 'pandas.core.frame.DataFrame'>\n",
            "RangeIndex: 72238 entries, 0 to 72237\n",
            "Data columns (total 28 columns):\n",
            " #   Column                    Non-Null Count  Dtype  \n",
            "---  ------                    --------------  -----  \n",
            " 0   ID                        72238 non-null  object \n",
            " 1   Customer_ID               72238 non-null  object \n",
            " 2   Month                     72238 non-null  object \n",
            " 3   Name                      65039 non-null  object \n",
            " 4   Age                       72238 non-null  int64  \n",
            " 5   SSN                       72238 non-null  object \n",
            " 6   Occupation                72238 non-null  object \n",
            " 7   Annual_Income             72238 non-null  float64\n",
            " 8   Monthly_Inhand_Salary     61427 non-null  float64\n",
            " 9   Num_Bank_Accounts         72238 non-null  int64  \n",
            " 10  Num_Credit_Card           72238 non-null  int64  \n",
            " 11  Interest_Rate             72238 non-null  int64  \n",
            " 12  Num_of_Loan               71930 non-null  float64\n",
            " 13  Type_of_Loan              64114 non-null  object \n",
            " 14  Delay_from_due_date       72238 non-null  int64  \n",
            " 15  Num_of_Delayed_Payment    67020 non-null  float64\n",
            " 16  Changed_Credit_Limit      72238 non-null  float64\n",
            " 17  Num_Credit_Inquiries      70826 non-null  float64\n",
            " 18  Credit_Mix                72238 non-null  object \n",
            " 19  Outstanding_Debt          72238 non-null  float64\n",
            " 20  Credit_Utilization_Ratio  72238 non-null  float64\n",
            " 21  Credit_History_Age        65738 non-null  object \n",
            " 22  Payment_of_Min_Amount     72238 non-null  object \n",
            " 23  Total_EMI_per_month       72238 non-null  float64\n",
            " 24  Amount_invested_monthly   68963 non-null  float64\n",
            " 25  Payment_Behaviour         72238 non-null  object \n",
            " 26  Monthly_Balance           71371 non-null  float64\n",
            " 27  Credit_Score              72238 non-null  object \n",
            "dtypes: float64(11), int64(5), object(12)\n",
            "memory usage: 15.4+ MB\n"
          ]
        }
      ]
    },
    {
      "cell_type": "code",
      "source": [
        "#columns in the dataframe\n",
        "df.columns"
      ],
      "metadata": {
        "colab": {
          "base_uri": "https://localhost:8080/"
        },
        "id": "gLwBz-I8u7bJ",
        "outputId": "6478375d-5c94-4283-a453-87f64dbf7b83"
      },
      "execution_count": 275,
      "outputs": [
        {
          "output_type": "execute_result",
          "data": {
            "text/plain": [
              "Index(['ID', 'Customer_ID', 'Month', 'Name', 'Age', 'SSN', 'Occupation',\n",
              "       'Annual_Income', 'Monthly_Inhand_Salary', 'Num_Bank_Accounts',\n",
              "       'Num_Credit_Card', 'Interest_Rate', 'Num_of_Loan', 'Type_of_Loan',\n",
              "       'Delay_from_due_date', 'Num_of_Delayed_Payment', 'Changed_Credit_Limit',\n",
              "       'Num_Credit_Inquiries', 'Credit_Mix', 'Outstanding_Debt',\n",
              "       'Credit_Utilization_Ratio', 'Credit_History_Age',\n",
              "       'Payment_of_Min_Amount', 'Total_EMI_per_month',\n",
              "       'Amount_invested_monthly', 'Payment_Behaviour', 'Monthly_Balance',\n",
              "       'Credit_Score'],\n",
              "      dtype='object')"
            ]
          },
          "metadata": {},
          "execution_count": 275
        }
      ]
    },
    {
      "cell_type": "code",
      "source": [
        "# removing unecessary columns\n",
        "df = df.drop(columns=(['ID', 'Customer_ID', 'Month', 'Name', 'SSN', 'Monthly_Inhand_Salary',\n",
        "                       'Type_of_Loan', 'Num_of_Delayed_Payment', 'Credit_History_Age',\n",
        "                       'Amount_invested_monthly','Monthly_Balance', 'Total_EMI_per_month']))"
      ],
      "metadata": {
        "id": "U8sST9rcr4mJ"
      },
      "execution_count": 276,
      "outputs": []
    },
    {
      "cell_type": "code",
      "source": [
        "# basic statistical info\n",
        "df.describe()"
      ],
      "metadata": {
        "id": "coaKpL6xtNJn",
        "colab": {
          "base_uri": "https://localhost:8080/",
          "height": 320
        },
        "outputId": "675bb39d-77f9-4a17-c646-2064338e4dea"
      },
      "execution_count": 277,
      "outputs": [
        {
          "output_type": "execute_result",
          "data": {
            "text/plain": [
              "                Age  Annual_Income  Num_Bank_Accounts  Num_Credit_Card  \\\n",
              "count  72238.000000   7.223800e+04       72238.000000     72238.000000   \n",
              "mean     111.693375   1.775917e+05          16.936557        22.389490   \n",
              "std      695.018481   1.436103e+06         116.724130       128.548338   \n",
              "min     -500.000000   7.005930e+03          -1.000000         0.000000   \n",
              "25%       24.000000   1.945549e+04           3.000000         4.000000   \n",
              "50%       33.000000   3.775478e+04           6.000000         5.000000   \n",
              "75%       42.000000   7.281788e+04           7.000000         7.000000   \n",
              "max     8698.000000   2.419806e+07        1798.000000      1499.000000   \n",
              "\n",
              "       Interest_Rate   Num_of_Loan  Delay_from_due_date  Changed_Credit_Limit  \\\n",
              "count   72238.000000  71930.000000         72238.000000          72238.000000   \n",
              "mean       73.821908      2.960350            21.073355             10.407966   \n",
              "std       471.919703     63.572579            14.839444              6.788056   \n",
              "min         1.000000   -100.000000            -5.000000             -6.480000   \n",
              "25%         8.000000      1.000000            10.000000              5.352500   \n",
              "50%        13.000000      3.000000            18.000000              9.420000   \n",
              "75%        20.000000      5.000000            28.000000             14.870000   \n",
              "max      5797.000000   1496.000000            67.000000             36.490000   \n",
              "\n",
              "       Num_Credit_Inquiries  Outstanding_Debt  Credit_Utilization_Ratio  \n",
              "count          70826.000000      72238.000000              72238.000000  \n",
              "mean              27.595233       1429.778891                 32.282920  \n",
              "std              191.691195       1157.129069                  5.112848  \n",
              "min                0.000000          0.230000                 20.000000  \n",
              "25%                3.000000        568.670000                 28.053046  \n",
              "50%                6.000000       1169.200000                 32.297064  \n",
              "75%                9.000000       1953.630000                 36.495859  \n",
              "max             2597.000000       4998.070000                 50.000000  "
            ],
            "text/html": [
              "\n",
              "  <div id=\"df-d2551fa4-0b28-451f-8698-207fd51548f0\" class=\"colab-df-container\">\n",
              "    <div>\n",
              "<style scoped>\n",
              "    .dataframe tbody tr th:only-of-type {\n",
              "        vertical-align: middle;\n",
              "    }\n",
              "\n",
              "    .dataframe tbody tr th {\n",
              "        vertical-align: top;\n",
              "    }\n",
              "\n",
              "    .dataframe thead th {\n",
              "        text-align: right;\n",
              "    }\n",
              "</style>\n",
              "<table border=\"1\" class=\"dataframe\">\n",
              "  <thead>\n",
              "    <tr style=\"text-align: right;\">\n",
              "      <th></th>\n",
              "      <th>Age</th>\n",
              "      <th>Annual_Income</th>\n",
              "      <th>Num_Bank_Accounts</th>\n",
              "      <th>Num_Credit_Card</th>\n",
              "      <th>Interest_Rate</th>\n",
              "      <th>Num_of_Loan</th>\n",
              "      <th>Delay_from_due_date</th>\n",
              "      <th>Changed_Credit_Limit</th>\n",
              "      <th>Num_Credit_Inquiries</th>\n",
              "      <th>Outstanding_Debt</th>\n",
              "      <th>Credit_Utilization_Ratio</th>\n",
              "    </tr>\n",
              "  </thead>\n",
              "  <tbody>\n",
              "    <tr>\n",
              "      <th>count</th>\n",
              "      <td>72238.000000</td>\n",
              "      <td>7.223800e+04</td>\n",
              "      <td>72238.000000</td>\n",
              "      <td>72238.000000</td>\n",
              "      <td>72238.000000</td>\n",
              "      <td>71930.000000</td>\n",
              "      <td>72238.000000</td>\n",
              "      <td>72238.000000</td>\n",
              "      <td>70826.000000</td>\n",
              "      <td>72238.000000</td>\n",
              "      <td>72238.000000</td>\n",
              "    </tr>\n",
              "    <tr>\n",
              "      <th>mean</th>\n",
              "      <td>111.693375</td>\n",
              "      <td>1.775917e+05</td>\n",
              "      <td>16.936557</td>\n",
              "      <td>22.389490</td>\n",
              "      <td>73.821908</td>\n",
              "      <td>2.960350</td>\n",
              "      <td>21.073355</td>\n",
              "      <td>10.407966</td>\n",
              "      <td>27.595233</td>\n",
              "      <td>1429.778891</td>\n",
              "      <td>32.282920</td>\n",
              "    </tr>\n",
              "    <tr>\n",
              "      <th>std</th>\n",
              "      <td>695.018481</td>\n",
              "      <td>1.436103e+06</td>\n",
              "      <td>116.724130</td>\n",
              "      <td>128.548338</td>\n",
              "      <td>471.919703</td>\n",
              "      <td>63.572579</td>\n",
              "      <td>14.839444</td>\n",
              "      <td>6.788056</td>\n",
              "      <td>191.691195</td>\n",
              "      <td>1157.129069</td>\n",
              "      <td>5.112848</td>\n",
              "    </tr>\n",
              "    <tr>\n",
              "      <th>min</th>\n",
              "      <td>-500.000000</td>\n",
              "      <td>7.005930e+03</td>\n",
              "      <td>-1.000000</td>\n",
              "      <td>0.000000</td>\n",
              "      <td>1.000000</td>\n",
              "      <td>-100.000000</td>\n",
              "      <td>-5.000000</td>\n",
              "      <td>-6.480000</td>\n",
              "      <td>0.000000</td>\n",
              "      <td>0.230000</td>\n",
              "      <td>20.000000</td>\n",
              "    </tr>\n",
              "    <tr>\n",
              "      <th>25%</th>\n",
              "      <td>24.000000</td>\n",
              "      <td>1.945549e+04</td>\n",
              "      <td>3.000000</td>\n",
              "      <td>4.000000</td>\n",
              "      <td>8.000000</td>\n",
              "      <td>1.000000</td>\n",
              "      <td>10.000000</td>\n",
              "      <td>5.352500</td>\n",
              "      <td>3.000000</td>\n",
              "      <td>568.670000</td>\n",
              "      <td>28.053046</td>\n",
              "    </tr>\n",
              "    <tr>\n",
              "      <th>50%</th>\n",
              "      <td>33.000000</td>\n",
              "      <td>3.775478e+04</td>\n",
              "      <td>6.000000</td>\n",
              "      <td>5.000000</td>\n",
              "      <td>13.000000</td>\n",
              "      <td>3.000000</td>\n",
              "      <td>18.000000</td>\n",
              "      <td>9.420000</td>\n",
              "      <td>6.000000</td>\n",
              "      <td>1169.200000</td>\n",
              "      <td>32.297064</td>\n",
              "    </tr>\n",
              "    <tr>\n",
              "      <th>75%</th>\n",
              "      <td>42.000000</td>\n",
              "      <td>7.281788e+04</td>\n",
              "      <td>7.000000</td>\n",
              "      <td>7.000000</td>\n",
              "      <td>20.000000</td>\n",
              "      <td>5.000000</td>\n",
              "      <td>28.000000</td>\n",
              "      <td>14.870000</td>\n",
              "      <td>9.000000</td>\n",
              "      <td>1953.630000</td>\n",
              "      <td>36.495859</td>\n",
              "    </tr>\n",
              "    <tr>\n",
              "      <th>max</th>\n",
              "      <td>8698.000000</td>\n",
              "      <td>2.419806e+07</td>\n",
              "      <td>1798.000000</td>\n",
              "      <td>1499.000000</td>\n",
              "      <td>5797.000000</td>\n",
              "      <td>1496.000000</td>\n",
              "      <td>67.000000</td>\n",
              "      <td>36.490000</td>\n",
              "      <td>2597.000000</td>\n",
              "      <td>4998.070000</td>\n",
              "      <td>50.000000</td>\n",
              "    </tr>\n",
              "  </tbody>\n",
              "</table>\n",
              "</div>\n",
              "    <div class=\"colab-df-buttons\">\n",
              "\n",
              "  <div class=\"colab-df-container\">\n",
              "    <button class=\"colab-df-convert\" onclick=\"convertToInteractive('df-d2551fa4-0b28-451f-8698-207fd51548f0')\"\n",
              "            title=\"Convert this dataframe to an interactive table.\"\n",
              "            style=\"display:none;\">\n",
              "\n",
              "  <svg xmlns=\"http://www.w3.org/2000/svg\" height=\"24px\" viewBox=\"0 -960 960 960\">\n",
              "    <path d=\"M120-120v-720h720v720H120Zm60-500h600v-160H180v160Zm220 220h160v-160H400v160Zm0 220h160v-160H400v160ZM180-400h160v-160H180v160Zm440 0h160v-160H620v160ZM180-180h160v-160H180v160Zm440 0h160v-160H620v160Z\"/>\n",
              "  </svg>\n",
              "    </button>\n",
              "\n",
              "  <style>\n",
              "    .colab-df-container {\n",
              "      display:flex;\n",
              "      gap: 12px;\n",
              "    }\n",
              "\n",
              "    .colab-df-convert {\n",
              "      background-color: #E8F0FE;\n",
              "      border: none;\n",
              "      border-radius: 50%;\n",
              "      cursor: pointer;\n",
              "      display: none;\n",
              "      fill: #1967D2;\n",
              "      height: 32px;\n",
              "      padding: 0 0 0 0;\n",
              "      width: 32px;\n",
              "    }\n",
              "\n",
              "    .colab-df-convert:hover {\n",
              "      background-color: #E2EBFA;\n",
              "      box-shadow: 0px 1px 2px rgba(60, 64, 67, 0.3), 0px 1px 3px 1px rgba(60, 64, 67, 0.15);\n",
              "      fill: #174EA6;\n",
              "    }\n",
              "\n",
              "    .colab-df-buttons div {\n",
              "      margin-bottom: 4px;\n",
              "    }\n",
              "\n",
              "    [theme=dark] .colab-df-convert {\n",
              "      background-color: #3B4455;\n",
              "      fill: #D2E3FC;\n",
              "    }\n",
              "\n",
              "    [theme=dark] .colab-df-convert:hover {\n",
              "      background-color: #434B5C;\n",
              "      box-shadow: 0px 1px 3px 1px rgba(0, 0, 0, 0.15);\n",
              "      filter: drop-shadow(0px 1px 2px rgba(0, 0, 0, 0.3));\n",
              "      fill: #FFFFFF;\n",
              "    }\n",
              "  </style>\n",
              "\n",
              "    <script>\n",
              "      const buttonEl =\n",
              "        document.querySelector('#df-d2551fa4-0b28-451f-8698-207fd51548f0 button.colab-df-convert');\n",
              "      buttonEl.style.display =\n",
              "        google.colab.kernel.accessAllowed ? 'block' : 'none';\n",
              "\n",
              "      async function convertToInteractive(key) {\n",
              "        const element = document.querySelector('#df-d2551fa4-0b28-451f-8698-207fd51548f0');\n",
              "        const dataTable =\n",
              "          await google.colab.kernel.invokeFunction('convertToInteractive',\n",
              "                                                    [key], {});\n",
              "        if (!dataTable) return;\n",
              "\n",
              "        const docLinkHtml = 'Like what you see? Visit the ' +\n",
              "          '<a target=\"_blank\" href=https://colab.research.google.com/notebooks/data_table.ipynb>data table notebook</a>'\n",
              "          + ' to learn more about interactive tables.';\n",
              "        element.innerHTML = '';\n",
              "        dataTable['output_type'] = 'display_data';\n",
              "        await google.colab.output.renderOutput(dataTable, element);\n",
              "        const docLink = document.createElement('div');\n",
              "        docLink.innerHTML = docLinkHtml;\n",
              "        element.appendChild(docLink);\n",
              "      }\n",
              "    </script>\n",
              "  </div>\n",
              "\n",
              "\n",
              "<div id=\"df-df21b3fb-3ac5-4759-932f-2a31a52c1dc7\">\n",
              "  <button class=\"colab-df-quickchart\" onclick=\"quickchart('df-df21b3fb-3ac5-4759-932f-2a31a52c1dc7')\"\n",
              "            title=\"Suggest charts\"\n",
              "            style=\"display:none;\">\n",
              "\n",
              "<svg xmlns=\"http://www.w3.org/2000/svg\" height=\"24px\"viewBox=\"0 0 24 24\"\n",
              "     width=\"24px\">\n",
              "    <g>\n",
              "        <path d=\"M19 3H5c-1.1 0-2 .9-2 2v14c0 1.1.9 2 2 2h14c1.1 0 2-.9 2-2V5c0-1.1-.9-2-2-2zM9 17H7v-7h2v7zm4 0h-2V7h2v10zm4 0h-2v-4h2v4z\"/>\n",
              "    </g>\n",
              "</svg>\n",
              "  </button>\n",
              "\n",
              "<style>\n",
              "  .colab-df-quickchart {\n",
              "      --bg-color: #E8F0FE;\n",
              "      --fill-color: #1967D2;\n",
              "      --hover-bg-color: #E2EBFA;\n",
              "      --hover-fill-color: #174EA6;\n",
              "      --disabled-fill-color: #AAA;\n",
              "      --disabled-bg-color: #DDD;\n",
              "  }\n",
              "\n",
              "  [theme=dark] .colab-df-quickchart {\n",
              "      --bg-color: #3B4455;\n",
              "      --fill-color: #D2E3FC;\n",
              "      --hover-bg-color: #434B5C;\n",
              "      --hover-fill-color: #FFFFFF;\n",
              "      --disabled-bg-color: #3B4455;\n",
              "      --disabled-fill-color: #666;\n",
              "  }\n",
              "\n",
              "  .colab-df-quickchart {\n",
              "    background-color: var(--bg-color);\n",
              "    border: none;\n",
              "    border-radius: 50%;\n",
              "    cursor: pointer;\n",
              "    display: none;\n",
              "    fill: var(--fill-color);\n",
              "    height: 32px;\n",
              "    padding: 0;\n",
              "    width: 32px;\n",
              "  }\n",
              "\n",
              "  .colab-df-quickchart:hover {\n",
              "    background-color: var(--hover-bg-color);\n",
              "    box-shadow: 0 1px 2px rgba(60, 64, 67, 0.3), 0 1px 3px 1px rgba(60, 64, 67, 0.15);\n",
              "    fill: var(--button-hover-fill-color);\n",
              "  }\n",
              "\n",
              "  .colab-df-quickchart-complete:disabled,\n",
              "  .colab-df-quickchart-complete:disabled:hover {\n",
              "    background-color: var(--disabled-bg-color);\n",
              "    fill: var(--disabled-fill-color);\n",
              "    box-shadow: none;\n",
              "  }\n",
              "\n",
              "  .colab-df-spinner {\n",
              "    border: 2px solid var(--fill-color);\n",
              "    border-color: transparent;\n",
              "    border-bottom-color: var(--fill-color);\n",
              "    animation:\n",
              "      spin 1s steps(1) infinite;\n",
              "  }\n",
              "\n",
              "  @keyframes spin {\n",
              "    0% {\n",
              "      border-color: transparent;\n",
              "      border-bottom-color: var(--fill-color);\n",
              "      border-left-color: var(--fill-color);\n",
              "    }\n",
              "    20% {\n",
              "      border-color: transparent;\n",
              "      border-left-color: var(--fill-color);\n",
              "      border-top-color: var(--fill-color);\n",
              "    }\n",
              "    30% {\n",
              "      border-color: transparent;\n",
              "      border-left-color: var(--fill-color);\n",
              "      border-top-color: var(--fill-color);\n",
              "      border-right-color: var(--fill-color);\n",
              "    }\n",
              "    40% {\n",
              "      border-color: transparent;\n",
              "      border-right-color: var(--fill-color);\n",
              "      border-top-color: var(--fill-color);\n",
              "    }\n",
              "    60% {\n",
              "      border-color: transparent;\n",
              "      border-right-color: var(--fill-color);\n",
              "    }\n",
              "    80% {\n",
              "      border-color: transparent;\n",
              "      border-right-color: var(--fill-color);\n",
              "      border-bottom-color: var(--fill-color);\n",
              "    }\n",
              "    90% {\n",
              "      border-color: transparent;\n",
              "      border-bottom-color: var(--fill-color);\n",
              "    }\n",
              "  }\n",
              "</style>\n",
              "\n",
              "  <script>\n",
              "    async function quickchart(key) {\n",
              "      const quickchartButtonEl =\n",
              "        document.querySelector('#' + key + ' button');\n",
              "      quickchartButtonEl.disabled = true;  // To prevent multiple clicks.\n",
              "      quickchartButtonEl.classList.add('colab-df-spinner');\n",
              "      try {\n",
              "        const charts = await google.colab.kernel.invokeFunction(\n",
              "            'suggestCharts', [key], {});\n",
              "      } catch (error) {\n",
              "        console.error('Error during call to suggestCharts:', error);\n",
              "      }\n",
              "      quickchartButtonEl.classList.remove('colab-df-spinner');\n",
              "      quickchartButtonEl.classList.add('colab-df-quickchart-complete');\n",
              "    }\n",
              "    (() => {\n",
              "      let quickchartButtonEl =\n",
              "        document.querySelector('#df-df21b3fb-3ac5-4759-932f-2a31a52c1dc7 button');\n",
              "      quickchartButtonEl.style.display =\n",
              "        google.colab.kernel.accessAllowed ? 'block' : 'none';\n",
              "    })();\n",
              "  </script>\n",
              "</div>\n",
              "\n",
              "    </div>\n",
              "  </div>\n"
            ],
            "application/vnd.google.colaboratory.intrinsic+json": {
              "type": "dataframe",
              "summary": "{\n  \"name\": \"df\",\n  \"rows\": 8,\n  \"fields\": [\n    {\n      \"column\": \"Age\",\n      \"properties\": {\n        \"dtype\": \"number\",\n        \"std\": 25263.39402080049,\n        \"min\": -500.0,\n        \"max\": 72238.0,\n        \"num_unique_values\": 8,\n        \"samples\": [\n          111.69337467814724,\n          33.0,\n          72238.0\n        ],\n        \"semantic_type\": \"\",\n        \"description\": \"\"\n      }\n    },\n    {\n      \"column\": \"Annual_Income\",\n      \"properties\": {\n        \"dtype\": \"number\",\n        \"std\": 8476992.125891116,\n        \"min\": 7005.93,\n        \"max\": 24198062.0,\n        \"num_unique_values\": 8,\n        \"samples\": [\n          177591.67054860323,\n          37754.78,\n          72238.0\n        ],\n        \"semantic_type\": \"\",\n        \"description\": \"\"\n      }\n    },\n    {\n      \"column\": \"Num_Bank_Accounts\",\n      \"properties\": {\n        \"dtype\": \"number\",\n        \"std\": 25449.263164250573,\n        \"min\": -1.0,\n        \"max\": 72238.0,\n        \"num_unique_values\": 8,\n        \"samples\": [\n          16.93655693679227,\n          6.0,\n          72238.0\n        ],\n        \"semantic_type\": \"\",\n        \"description\": \"\"\n      }\n    },\n    {\n      \"column\": \"Num_Credit_Card\",\n      \"properties\": {\n        \"dtype\": \"number\",\n        \"std\": 25461.087278022642,\n        \"min\": 0.0,\n        \"max\": 72238.0,\n        \"num_unique_values\": 8,\n        \"samples\": [\n          22.389490295966112,\n          5.0,\n          72238.0\n        ],\n        \"semantic_type\": \"\",\n        \"description\": \"\"\n      }\n    },\n    {\n      \"column\": \"Interest_Rate\",\n      \"properties\": {\n        \"dtype\": \"number\",\n        \"std\": 25296.72680003738,\n        \"min\": 1.0,\n        \"max\": 72238.0,\n        \"num_unique_values\": 8,\n        \"samples\": [\n          73.82190813699161,\n          13.0,\n          72238.0\n        ],\n        \"semantic_type\": \"\",\n        \"description\": \"\"\n      }\n    },\n    {\n      \"column\": \"Num_of_Loan\",\n      \"properties\": {\n        \"dtype\": \"number\",\n        \"std\": 25362.2437935089,\n        \"min\": -100.0,\n        \"max\": 71930.0,\n        \"num_unique_values\": 8,\n        \"samples\": [\n          2.9603503406089255,\n          3.0,\n          71930.0\n        ],\n        \"semantic_type\": \"\",\n        \"description\": \"\"\n      }\n    },\n    {\n      \"column\": \"Delay_from_due_date\",\n      \"properties\": {\n        \"dtype\": \"number\",\n        \"std\": 25532.22445813913,\n        \"min\": -5.0,\n        \"max\": 72238.0,\n        \"num_unique_values\": 8,\n        \"samples\": [\n          21.073354744040532,\n          18.0,\n          72238.0\n        ],\n        \"semantic_type\": \"\",\n        \"description\": \"\"\n      }\n    },\n    {\n      \"column\": \"Changed_Credit_Limit\",\n      \"properties\": {\n        \"dtype\": \"number\",\n        \"std\": 25536.111253936742,\n        \"min\": -6.48,\n        \"max\": 72238.0,\n        \"num_unique_values\": 8,\n        \"samples\": [\n          10.40796644425372,\n          9.42,\n          72238.0\n        ],\n        \"semantic_type\": \"\",\n        \"description\": \"\"\n      }\n    },\n    {\n      \"column\": \"Num_Credit_Inquiries\",\n      \"properties\": {\n        \"dtype\": \"number\",\n        \"std\": 24913.77872760589,\n        \"min\": 0.0,\n        \"max\": 70826.0,\n        \"num_unique_values\": 8,\n        \"samples\": [\n          27.595233388868493,\n          6.0,\n          70826.0\n        ],\n        \"semantic_type\": \"\",\n        \"description\": \"\"\n      }\n    },\n    {\n      \"column\": \"Outstanding_Debt\",\n      \"properties\": {\n        \"dtype\": \"number\",\n        \"std\": 25015.313429439702,\n        \"min\": 0.23,\n        \"max\": 72238.0,\n        \"num_unique_values\": 8,\n        \"samples\": [\n          1429.7788910268835,\n          1169.2,\n          72238.0\n        ],\n        \"semantic_type\": \"\",\n        \"description\": \"\"\n      }\n    },\n    {\n      \"column\": \"Credit_Utilization_Ratio\",\n      \"properties\": {\n        \"dtype\": \"number\",\n        \"std\": 25529.67734077735,\n        \"min\": 5.112848362161835,\n        \"max\": 72238.0,\n        \"num_unique_values\": 8,\n        \"samples\": [\n          32.282919873985264,\n          32.2970639339756,\n          72238.0\n        ],\n        \"semantic_type\": \"\",\n        \"description\": \"\"\n      }\n    }\n  ]\n}"
            }
          },
          "metadata": {},
          "execution_count": 277
        }
      ]
    },
    {
      "cell_type": "code",
      "source": [
        "#null values\n",
        "df.isna().sum()"
      ],
      "metadata": {
        "id": "THLOMXehs75B",
        "colab": {
          "base_uri": "https://localhost:8080/"
        },
        "outputId": "5f92efa6-1937-4a12-cc00-8197bb7ade9e"
      },
      "execution_count": 278,
      "outputs": [
        {
          "output_type": "execute_result",
          "data": {
            "text/plain": [
              "Age                            0\n",
              "Occupation                     0\n",
              "Annual_Income                  0\n",
              "Num_Bank_Accounts              0\n",
              "Num_Credit_Card                0\n",
              "Interest_Rate                  0\n",
              "Num_of_Loan                  308\n",
              "Delay_from_due_date            0\n",
              "Changed_Credit_Limit           0\n",
              "Num_Credit_Inquiries        1412\n",
              "Credit_Mix                     0\n",
              "Outstanding_Debt               0\n",
              "Credit_Utilization_Ratio       0\n",
              "Payment_of_Min_Amount          0\n",
              "Payment_Behaviour              0\n",
              "Credit_Score                   0\n",
              "dtype: int64"
            ]
          },
          "metadata": {},
          "execution_count": 278
        }
      ]
    },
    {
      "cell_type": "markdown",
      "source": [
        "## Data Cleaning and Inputation"
      ],
      "metadata": {
        "id": "WQNi_o6phiS6"
      }
    },
    {
      "cell_type": "markdown",
      "source": [
        "### Numerical Variables"
      ],
      "metadata": {
        "id": "vhrakUdOrB7g"
      }
    },
    {
      "cell_type": "markdown",
      "source": [
        "### Age"
      ],
      "metadata": {
        "id": "1ZHS1zL_oT5U"
      }
    },
    {
      "cell_type": "code",
      "source": [
        "df['Age'].value_counts().head()"
      ],
      "metadata": {
        "colab": {
          "base_uri": "https://localhost:8080/"
        },
        "id": "ZALbHHifvCol",
        "outputId": "271643ce-62d3-465e-862a-7d9ad8e1085f"
      },
      "execution_count": 279,
      "outputs": [
        {
          "output_type": "execute_result",
          "data": {
            "text/plain": [
              "38    2164\n",
              "28    2131\n",
              "31    2123\n",
              "26    2110\n",
              "44    2090\n",
              "Name: Age, dtype: int64"
            ]
          },
          "metadata": {},
          "execution_count": 279
        }
      ]
    },
    {
      "cell_type": "code",
      "source": [
        "correct_age = df[(df['Age'] > 17) & (df['Age'] < 81)]['Age']\n",
        "\n",
        "print(correct_age.mean())\n",
        "print(correct_age.median())\n"
      ],
      "metadata": {
        "colab": {
          "base_uri": "https://localhost:8080/"
        },
        "id": "azsUCKXTvQHv",
        "outputId": "9a7c78ec-5039-48f0-b345-7e328efb7cf1"
      },
      "execution_count": 280,
      "outputs": [
        {
          "output_type": "stream",
          "name": "stdout",
          "text": [
            "34.42575576378692\n",
            "34.0\n"
          ]
        }
      ]
    },
    {
      "cell_type": "code",
      "source": [
        "sns.histplot(data=correct_age)"
      ],
      "metadata": {
        "colab": {
          "base_uri": "https://localhost:8080/",
          "height": 466
        },
        "id": "scUGFNxyjWTL",
        "outputId": "fc6c08a2-a84f-4c67-d562-42c99cbfed45"
      },
      "execution_count": 281,
      "outputs": [
        {
          "output_type": "execute_result",
          "data": {
            "text/plain": [
              "<Axes: xlabel='Age', ylabel='Count'>"
            ]
          },
          "metadata": {},
          "execution_count": 281
        },
        {
          "output_type": "display_data",
          "data": {
            "text/plain": [
              "<Figure size 640x480 with 1 Axes>"
            ],
            "image/png": "[encoded data removed]"
          },
          "metadata": {}
        }
      ]
    },
    {
      "cell_type": "code",
      "source": [
        "df.loc[(df['Age'] < 18) | (df['Age'] > 80), 'Age'] = 34\n",
        "\n",
        "#another approach\n",
        "#df['Age'] = df['Age'].apply(lambda x: 34 if (x < 18 or x > 79) else x)"
      ],
      "metadata": {
        "id": "AGYWijsIofk5"
      },
      "execution_count": 282,
      "outputs": []
    },
    {
      "cell_type": "code",
      "source": [
        "print(df['Age'].mean())\n",
        "print(df['Age'].median())"
      ],
      "metadata": {
        "colab": {
          "base_uri": "https://localhost:8080/"
        },
        "id": "j82PreiMp0I5",
        "outputId": "d0bd81b0-c4d3-4a4b-b92e-0ef5b9930258"
      },
      "execution_count": 283,
      "outputs": [
        {
          "output_type": "stream",
          "name": "stdout",
          "text": [
            "34.389338021539906\n",
            "34.0\n"
          ]
        }
      ]
    },
    {
      "cell_type": "markdown",
      "source": [
        "### Other Columns"
      ],
      "metadata": {
        "id": "iD_4c90_qy1_"
      }
    },
    {
      "cell_type": "code",
      "source": [
        "cols_to_clean = ['Num_Bank_Accounts', 'Num_of_Loan', 'Delay_from_due_date', 'Changed_Credit_Limit', 'Num_Credit_Inquiries']\n",
        "\n",
        "for col in cols_to_clean:\n",
        "  mean_value = df[col].mean()\n",
        "  df.loc[(df[col] < 0), col] = mean_value #fill negative values with the mean value\n",
        "  df[col] = df[col].fillna(mean_value) #fill null values with the mean value\n"
      ],
      "metadata": {
        "id": "wOs4Nxm-qGxm"
      },
      "execution_count": 284,
      "outputs": []
    },
    {
      "cell_type": "markdown",
      "source": [
        "### Nota - Média e Mediana"
      ],
      "metadata": {
        "id": "ou9W4GEkobqO"
      }
    },
    {
      "cell_type": "markdown",
      "source": [
        "**📝 Média & Mediana**\n",
        "\n",
        "Média é a soma de todos os valores dividida pelo número de valores, enquanto a mediana é o valor central em um conjunto de dados ordenados.\n",
        "\n",
        "| Notas |\n",
        "|-------|\n",
        "| 8     |\n",
        "| 7     |\n",
        "| 8     |\n",
        "| 9     |\n",
        "| 7     |\n",
        "\n",
        "**Média: 7.8**\n",
        "\n",
        "**Mediana: 8**\n",
        "\n",
        "***\n",
        "\n",
        "| Notas |\n",
        "|-------|\n",
        "| 2     |\n",
        "| 4     |\n",
        "| 4     |\n",
        "| 10     |\n",
        "| 10     |\n",
        "\n",
        "**Média: 6**\n",
        "\n",
        "**Mediana: 4**"
      ],
      "metadata": {
        "id": "duDmHOptlI_L"
      }
    },
    {
      "cell_type": "markdown",
      "source": [
        "### Categorical Variables"
      ],
      "metadata": {
        "id": "_3BOS-DtrH1o"
      }
    },
    {
      "cell_type": "code",
      "source": [
        "#filtering out categorical columns\n",
        "categorical_columns = df.select_dtypes(include=['object']).columns\n",
        "categorical_columns"
      ],
      "metadata": {
        "colab": {
          "base_uri": "https://localhost:8080/"
        },
        "id": "W_OaTUN6rJSE",
        "outputId": "5870855b-95a9-4db5-a060-71b90906ae7f"
      },
      "execution_count": 285,
      "outputs": [
        {
          "output_type": "execute_result",
          "data": {
            "text/plain": [
              "Index(['Occupation', 'Credit_Mix', 'Payment_of_Min_Amount',\n",
              "       'Payment_Behaviour', 'Credit_Score'],\n",
              "      dtype='object')"
            ]
          },
          "metadata": {},
          "execution_count": 285
        }
      ]
    },
    {
      "cell_type": "code",
      "source": [
        "#printing out the unique values in each categorical column\n",
        "for col in categorical_columns:\n",
        "  print(col)\n",
        "  print(df[col].unique())\n",
        "  print('\\n')"
      ],
      "metadata": {
        "colab": {
          "base_uri": "https://localhost:8080/"
        },
        "id": "a4DjPZjorauv",
        "outputId": "be84472b-eae3-47df-e0ac-33e729caf235"
      },
      "execution_count": 286,
      "outputs": [
        {
          "output_type": "stream",
          "name": "stdout",
          "text": [
            "Occupation\n",
            "['Scientist' 'Teacher' '_______' 'Engineer' 'Entrepreneur' 'Developer'\n",
            " 'Lawyer' 'Media_Manager' 'Doctor' 'Journalist' 'Manager' 'Accountant'\n",
            " 'Musician' 'Mechanic' 'Writer' 'Architect']\n",
            "\n",
            "\n",
            "Credit_Mix\n",
            "['Good' 'Standard' 'Bad']\n",
            "\n",
            "\n",
            "Payment_of_Min_Amount\n",
            "['No' 'NM' 'Yes']\n",
            "\n",
            "\n",
            "Payment_Behaviour\n",
            "['Low_spent_Large_value_payments' 'Low_spent_Small_value_payments'\n",
            " 'High_spent_Medium_value_payments' '!@9#%8'\n",
            " 'High_spent_Large_value_payments' 'High_spent_Small_value_payments'\n",
            " 'Low_spent_Medium_value_payments']\n",
            "\n",
            "\n",
            "Credit_Score\n",
            "['Good' 'Standard' 'Poor']\n",
            "\n",
            "\n"
          ]
        }
      ]
    },
    {
      "cell_type": "markdown",
      "source": [
        "#### Occupation"
      ],
      "metadata": {
        "id": "3LP9_RbCueM5"
      }
    },
    {
      "cell_type": "code",
      "source": [
        "# how many rows the occupation == '_______'\n",
        "df[df['Occupation'] == '_______'].shape"
      ],
      "metadata": {
        "colab": {
          "base_uri": "https://localhost:8080/"
        },
        "id": "waxvnMPormq5",
        "outputId": "f58026cb-94eb-464d-aa90-5078bfccb40b"
      },
      "execution_count": 287,
      "outputs": [
        {
          "output_type": "execute_result",
          "data": {
            "text/plain": [
              "(5121, 16)"
            ]
          },
          "metadata": {},
          "execution_count": 287
        }
      ]
    },
    {
      "cell_type": "code",
      "source": [
        "# replacing '_______' with Unknown\n",
        "df['Occupation'] = df['Occupation'].str.replace('_______','Unknown')"
      ],
      "metadata": {
        "id": "ABB_XUJPtqJ6"
      },
      "execution_count": 288,
      "outputs": []
    },
    {
      "cell_type": "markdown",
      "source": [
        "#### Payment_Behaviour"
      ],
      "metadata": {
        "id": "wHEmfnILuprK"
      }
    },
    {
      "cell_type": "code",
      "source": [
        "df['Payment_Behaviour'].value_counts()"
      ],
      "metadata": {
        "colab": {
          "base_uri": "https://localhost:8080/"
        },
        "id": "8xBfeqUktjlz",
        "outputId": "a5f31cc0-e98f-4afc-c578-bc2436ef997c"
      },
      "execution_count": 289,
      "outputs": [
        {
          "output_type": "execute_result",
          "data": {
            "text/plain": [
              "Low_spent_Small_value_payments      18318\n",
              "High_spent_Medium_value_payments    12725\n",
              "Low_spent_Medium_value_payments     10032\n",
              "High_spent_Large_value_payments      9910\n",
              "High_spent_Small_value_payments      8166\n",
              "Low_spent_Large_value_payments       7560\n",
              "!@9#%8                               5527\n",
              "Name: Payment_Behaviour, dtype: int64"
            ]
          },
          "metadata": {},
          "execution_count": 289
        }
      ]
    },
    {
      "cell_type": "code",
      "source": [
        "#drop the records where Payment_Behaviour == '!@9#%8df[]'\n",
        "df = df[df['Payment_Behaviour'] != '!@9#%8df[]']"
      ],
      "metadata": {
        "id": "TbJuuIn3ty9h"
      },
      "execution_count": 290,
      "outputs": []
    },
    {
      "cell_type": "code",
      "source": [
        "# checking output\n",
        "df.isna().sum()"
      ],
      "metadata": {
        "colab": {
          "base_uri": "https://localhost:8080/"
        },
        "id": "rv_UInVauRG4",
        "outputId": "d60cb308-0b4c-412b-b7e4-8ac15457e3f9"
      },
      "execution_count": 291,
      "outputs": [
        {
          "output_type": "execute_result",
          "data": {
            "text/plain": [
              "Age                         0\n",
              "Occupation                  0\n",
              "Annual_Income               0\n",
              "Num_Bank_Accounts           0\n",
              "Num_Credit_Card             0\n",
              "Interest_Rate               0\n",
              "Num_of_Loan                 0\n",
              "Delay_from_due_date         0\n",
              "Changed_Credit_Limit        0\n",
              "Num_Credit_Inquiries        0\n",
              "Credit_Mix                  0\n",
              "Outstanding_Debt            0\n",
              "Credit_Utilization_Ratio    0\n",
              "Payment_of_Min_Amount       0\n",
              "Payment_Behaviour           0\n",
              "Credit_Score                0\n",
              "dtype: int64"
            ]
          },
          "metadata": {},
          "execution_count": 291
        }
      ]
    },
    {
      "cell_type": "code",
      "source": [
        "df.describe()"
      ],
      "metadata": {
        "colab": {
          "base_uri": "https://localhost:8080/",
          "height": 320
        },
        "id": "pn9t4KuVvZaR",
        "outputId": "2091ef81-6eea-4045-cc7a-32c56e9d49bf"
      },
      "execution_count": 292,
      "outputs": [
        {
          "output_type": "execute_result",
          "data": {
            "text/plain": [
              "                Age  Annual_Income  Num_Bank_Accounts  Num_Credit_Card  \\\n",
              "count  72238.000000   7.223800e+04       72238.000000     72238.000000   \n",
              "mean      34.389338   1.775917e+05          16.941026        22.389490   \n",
              "std        9.678580   1.436103e+06         116.723786       128.548338   \n",
              "min       18.000000   7.005930e+03           0.000000         0.000000   \n",
              "25%       27.000000   1.945549e+04           3.000000         4.000000   \n",
              "50%       34.000000   3.775478e+04           6.000000         5.000000   \n",
              "75%       41.000000   7.281788e+04           7.000000         7.000000   \n",
              "max       56.000000   2.419806e+07        1798.000000      1499.000000   \n",
              "\n",
              "       Interest_Rate   Num_of_Loan  Delay_from_due_date  Changed_Credit_Limit  \\\n",
              "count   72238.000000  72238.000000         72238.000000          72238.000000   \n",
              "mean       73.821908      7.011034            21.214641             10.611477   \n",
              "std       471.919703     59.923010            14.727388              6.587192   \n",
              "min         1.000000      0.000000             0.000000              0.000000   \n",
              "25%         8.000000      2.000000            10.000000              5.680000   \n",
              "50%        13.000000      3.000000            18.000000              9.650000   \n",
              "75%        20.000000      5.000000            28.000000             14.870000   \n",
              "max      5797.000000   1496.000000            67.000000             36.490000   \n",
              "\n",
              "       Num_Credit_Inquiries  Outstanding_Debt  Credit_Utilization_Ratio  \n",
              "count          72238.000000      72238.000000              72238.000000  \n",
              "mean              27.595233       1429.778891                 32.282920  \n",
              "std              189.808478       1157.129069                  5.112848  \n",
              "min                0.000000          0.230000                 20.000000  \n",
              "25%                3.000000        568.670000                 28.053046  \n",
              "50%                6.000000       1169.200000                 32.297064  \n",
              "75%                9.000000       1953.630000                 36.495859  \n",
              "max             2597.000000       4998.070000                 50.000000  "
            ],
            "text/html": [
              "\n",
              "  <div id=\"df-71c91297-285b-49f9-8571-1d9e949cc3d2\" class=\"colab-df-container\">\n",
              "    <div>\n",
              "<style scoped>\n",
              "    .dataframe tbody tr th:only-of-type {\n",
              "        vertical-align: middle;\n",
              "    }\n",
              "\n",
              "    .dataframe tbody tr th {\n",
              "        vertical-align: top;\n",
              "    }\n",
              "\n",
              "    .dataframe thead th {\n",
              "        text-align: right;\n",
              "    }\n",
              "</style>\n",
              "<table border=\"1\" class=\"dataframe\">\n",
              "  <thead>\n",
              "    <tr style=\"text-align: right;\">\n",
              "      <th></th>\n",
              "      <th>Age</th>\n",
              "      <th>Annual_Income</th>\n",
              "      <th>Num_Bank_Accounts</th>\n",
              "      <th>Num_Credit_Card</th>\n",
              "      <th>Interest_Rate</th>\n",
              "      <th>Num_of_Loan</th>\n",
              "      <th>Delay_from_due_date</th>\n",
              "      <th>Changed_Credit_Limit</th>\n",
              "      <th>Num_Credit_Inquiries</th>\n",
              "      <th>Outstanding_Debt</th>\n",
              "      <th>Credit_Utilization_Ratio</th>\n",
              "    </tr>\n",
              "  </thead>\n",
              "  <tbody>\n",
              "    <tr>\n",
              "      <th>count</th>\n",
              "      <td>72238.000000</td>\n",
              "      <td>7.223800e+04</td>\n",
              "      <td>72238.000000</td>\n",
              "      <td>72238.000000</td>\n",
              "      <td>72238.000000</td>\n",
              "      <td>72238.000000</td>\n",
              "      <td>72238.000000</td>\n",
              "      <td>72238.000000</td>\n",
              "      <td>72238.000000</td>\n",
              "      <td>72238.000000</td>\n",
              "      <td>72238.000000</td>\n",
              "    </tr>\n",
              "    <tr>\n",
              "      <th>mean</th>\n",
              "      <td>34.389338</td>\n",
              "      <td>1.775917e+05</td>\n",
              "      <td>16.941026</td>\n",
              "      <td>22.389490</td>\n",
              "      <td>73.821908</td>\n",
              "      <td>7.011034</td>\n",
              "      <td>21.214641</td>\n",
              "      <td>10.611477</td>\n",
              "      <td>27.595233</td>\n",
              "      <td>1429.778891</td>\n",
              "      <td>32.282920</td>\n",
              "    </tr>\n",
              "    <tr>\n",
              "      <th>std</th>\n",
              "      <td>9.678580</td>\n",
              "      <td>1.436103e+06</td>\n",
              "      <td>116.723786</td>\n",
              "      <td>128.548338</td>\n",
              "      <td>471.919703</td>\n",
              "      <td>59.923010</td>\n",
              "      <td>14.727388</td>\n",
              "      <td>6.587192</td>\n",
              "      <td>189.808478</td>\n",
              "      <td>1157.129069</td>\n",
              "      <td>5.112848</td>\n",
              "    </tr>\n",
              "    <tr>\n",
              "      <th>min</th>\n",
              "      <td>18.000000</td>\n",
              "      <td>7.005930e+03</td>\n",
              "      <td>0.000000</td>\n",
              "      <td>0.000000</td>\n",
              "      <td>1.000000</td>\n",
              "      <td>0.000000</td>\n",
              "      <td>0.000000</td>\n",
              "      <td>0.000000</td>\n",
              "      <td>0.000000</td>\n",
              "      <td>0.230000</td>\n",
              "      <td>20.000000</td>\n",
              "    </tr>\n",
              "    <tr>\n",
              "      <th>25%</th>\n",
              "      <td>27.000000</td>\n",
              "      <td>1.945549e+04</td>\n",
              "      <td>3.000000</td>\n",
              "      <td>4.000000</td>\n",
              "      <td>8.000000</td>\n",
              "      <td>2.000000</td>\n",
              "      <td>10.000000</td>\n",
              "      <td>5.680000</td>\n",
              "      <td>3.000000</td>\n",
              "      <td>568.670000</td>\n",
              "      <td>28.053046</td>\n",
              "    </tr>\n",
              "    <tr>\n",
              "      <th>50%</th>\n",
              "      <td>34.000000</td>\n",
              "      <td>3.775478e+04</td>\n",
              "      <td>6.000000</td>\n",
              "      <td>5.000000</td>\n",
              "      <td>13.000000</td>\n",
              "      <td>3.000000</td>\n",
              "      <td>18.000000</td>\n",
              "      <td>9.650000</td>\n",
              "      <td>6.000000</td>\n",
              "      <td>1169.200000</td>\n",
              "      <td>32.297064</td>\n",
              "    </tr>\n",
              "    <tr>\n",
              "      <th>75%</th>\n",
              "      <td>41.000000</td>\n",
              "      <td>7.281788e+04</td>\n",
              "      <td>7.000000</td>\n",
              "      <td>7.000000</td>\n",
              "      <td>20.000000</td>\n",
              "      <td>5.000000</td>\n",
              "      <td>28.000000</td>\n",
              "      <td>14.870000</td>\n",
              "      <td>9.000000</td>\n",
              "      <td>1953.630000</td>\n",
              "      <td>36.495859</td>\n",
              "    </tr>\n",
              "    <tr>\n",
              "      <th>max</th>\n",
              "      <td>56.000000</td>\n",
              "      <td>2.419806e+07</td>\n",
              "      <td>1798.000000</td>\n",
              "      <td>1499.000000</td>\n",
              "      <td>5797.000000</td>\n",
              "      <td>1496.000000</td>\n",
              "      <td>67.000000</td>\n",
              "      <td>36.490000</td>\n",
              "      <td>2597.000000</td>\n",
              "      <td>4998.070000</td>\n",
              "      <td>50.000000</td>\n",
              "    </tr>\n",
              "  </tbody>\n",
              "</table>\n",
              "</div>\n",
              "    <div class=\"colab-df-buttons\">\n",
              "\n",
              "  <div class=\"colab-df-container\">\n",
              "    <button class=\"colab-df-convert\" onclick=\"convertToInteractive('df-71c91297-285b-49f9-8571-1d9e949cc3d2')\"\n",
              "            title=\"Convert this dataframe to an interactive table.\"\n",
              "            style=\"display:none;\">\n",
              "\n",
              "  <svg xmlns=\"http://www.w3.org/2000/svg\" height=\"24px\" viewBox=\"0 -960 960 960\">\n",
              "    <path d=\"M120-120v-720h720v720H120Zm60-500h600v-160H180v160Zm220 220h160v-160H400v160Zm0 220h160v-160H400v160ZM180-400h160v-160H180v160Zm440 0h160v-160H620v160ZM180-180h160v-160H180v160Zm440 0h160v-160H620v160Z\"/>\n",
              "  </svg>\n",
              "    </button>\n",
              "\n",
              "  <style>\n",
              "    .colab-df-container {\n",
              "      display:flex;\n",
              "      gap: 12px;\n",
              "    }\n",
              "\n",
              "    .colab-df-convert {\n",
              "      background-color: #E8F0FE;\n",
              "      border: none;\n",
              "      border-radius: 50%;\n",
              "      cursor: pointer;\n",
              "      display: none;\n",
              "      fill: #1967D2;\n",
              "      height: 32px;\n",
              "      padding: 0 0 0 0;\n",
              "      width: 32px;\n",
              "    }\n",
              "\n",
              "    .colab-df-convert:hover {\n",
              "      background-color: #E2EBFA;\n",
              "      box-shadow: 0px 1px 2px rgba(60, 64, 67, 0.3), 0px 1px 3px 1px rgba(60, 64, 67, 0.15);\n",
              "      fill: #174EA6;\n",
              "    }\n",
              "\n",
              "    .colab-df-buttons div {\n",
              "      margin-bottom: 4px;\n",
              "    }\n",
              "\n",
              "    [theme=dark] .colab-df-convert {\n",
              "      background-color: #3B4455;\n",
              "      fill: #D2E3FC;\n",
              "    }\n",
              "\n",
              "    [theme=dark] .colab-df-convert:hover {\n",
              "      background-color: #434B5C;\n",
              "      box-shadow: 0px 1px 3px 1px rgba(0, 0, 0, 0.15);\n",
              "      filter: drop-shadow(0px 1px 2px rgba(0, 0, 0, 0.3));\n",
              "      fill: #FFFFFF;\n",
              "    }\n",
              "  </style>\n",
              "\n",
              "    <script>\n",
              "      const buttonEl =\n",
              "        document.querySelector('#df-71c91297-285b-49f9-8571-1d9e949cc3d2 button.colab-df-convert');\n",
              "      buttonEl.style.display =\n",
              "        google.colab.kernel.accessAllowed ? 'block' : 'none';\n",
              "\n",
              "      async function convertToInteractive(key) {\n",
              "        const element = document.querySelector('#df-71c91297-285b-49f9-8571-1d9e949cc3d2');\n",
              "        const dataTable =\n",
              "          await google.colab.kernel.invokeFunction('convertToInteractive',\n",
              "                                                    [key], {});\n",
              "        if (!dataTable) return;\n",
              "\n",
              "        const docLinkHtml = 'Like what you see? Visit the ' +\n",
              "          '<a target=\"_blank\" href=https://colab.research.google.com/notebooks/data_table.ipynb>data table notebook</a>'\n",
              "          + ' to learn more about interactive tables.';\n",
              "        element.innerHTML = '';\n",
              "        dataTable['output_type'] = 'display_data';\n",
              "        await google.colab.output.renderOutput(dataTable, element);\n",
              "        const docLink = document.createElement('div');\n",
              "        docLink.innerHTML = docLinkHtml;\n",
              "        element.appendChild(docLink);\n",
              "      }\n",
              "    </script>\n",
              "  </div>\n",
              "\n",
              "\n",
              "<div id=\"df-277e68fc-9c27-44f0-a526-5b3b05d385d9\">\n",
              "  <button class=\"colab-df-quickchart\" onclick=\"quickchart('df-277e68fc-9c27-44f0-a526-5b3b05d385d9')\"\n",
              "            title=\"Suggest charts\"\n",
              "            style=\"display:none;\">\n",
              "\n",
              "<svg xmlns=\"http://www.w3.org/2000/svg\" height=\"24px\"viewBox=\"0 0 24 24\"\n",
              "     width=\"24px\">\n",
              "    <g>\n",
              "        <path d=\"M19 3H5c-1.1 0-2 .9-2 2v14c0 1.1.9 2 2 2h14c1.1 0 2-.9 2-2V5c0-1.1-.9-2-2-2zM9 17H7v-7h2v7zm4 0h-2V7h2v10zm4 0h-2v-4h2v4z\"/>\n",
              "    </g>\n",
              "</svg>\n",
              "  </button>\n",
              "\n",
              "<style>\n",
              "  .colab-df-quickchart {\n",
              "      --bg-color: #E8F0FE;\n",
              "      --fill-color: #1967D2;\n",
              "      --hover-bg-color: #E2EBFA;\n",
              "      --hover-fill-color: #174EA6;\n",
              "      --disabled-fill-color: #AAA;\n",
              "      --disabled-bg-color: #DDD;\n",
              "  }\n",
              "\n",
              "  [theme=dark] .colab-df-quickchart {\n",
              "      --bg-color: #3B4455;\n",
              "      --fill-color: #D2E3FC;\n",
              "      --hover-bg-color: #434B5C;\n",
              "      --hover-fill-color: #FFFFFF;\n",
              "      --disabled-bg-color: #3B4455;\n",
              "      --disabled-fill-color: #666;\n",
              "  }\n",
              "\n",
              "  .colab-df-quickchart {\n",
              "    background-color: var(--bg-color);\n",
              "    border: none;\n",
              "    border-radius: 50%;\n",
              "    cursor: pointer;\n",
              "    display: none;\n",
              "    fill: var(--fill-color);\n",
              "    height: 32px;\n",
              "    padding: 0;\n",
              "    width: 32px;\n",
              "  }\n",
              "\n",
              "  .colab-df-quickchart:hover {\n",
              "    background-color: var(--hover-bg-color);\n",
              "    box-shadow: 0 1px 2px rgba(60, 64, 67, 0.3), 0 1px 3px 1px rgba(60, 64, 67, 0.15);\n",
              "    fill: var(--button-hover-fill-color);\n",
              "  }\n",
              "\n",
              "  .colab-df-quickchart-complete:disabled,\n",
              "  .colab-df-quickchart-complete:disabled:hover {\n",
              "    background-color: var(--disabled-bg-color);\n",
              "    fill: var(--disabled-fill-color);\n",
              "    box-shadow: none;\n",
              "  }\n",
              "\n",
              "  .colab-df-spinner {\n",
              "    border: 2px solid var(--fill-color);\n",
              "    border-color: transparent;\n",
              "    border-bottom-color: var(--fill-color);\n",
              "    animation:\n",
              "      spin 1s steps(1) infinite;\n",
              "  }\n",
              "\n",
              "  @keyframes spin {\n",
              "    0% {\n",
              "      border-color: transparent;\n",
              "      border-bottom-color: var(--fill-color);\n",
              "      border-left-color: var(--fill-color);\n",
              "    }\n",
              "    20% {\n",
              "      border-color: transparent;\n",
              "      border-left-color: var(--fill-color);\n",
              "      border-top-color: var(--fill-color);\n",
              "    }\n",
              "    30% {\n",
              "      border-color: transparent;\n",
              "      border-left-color: var(--fill-color);\n",
              "      border-top-color: var(--fill-color);\n",
              "      border-right-color: var(--fill-color);\n",
              "    }\n",
              "    40% {\n",
              "      border-color: transparent;\n",
              "      border-right-color: var(--fill-color);\n",
              "      border-top-color: var(--fill-color);\n",
              "    }\n",
              "    60% {\n",
              "      border-color: transparent;\n",
              "      border-right-color: var(--fill-color);\n",
              "    }\n",
              "    80% {\n",
              "      border-color: transparent;\n",
              "      border-right-color: var(--fill-color);\n",
              "      border-bottom-color: var(--fill-color);\n",
              "    }\n",
              "    90% {\n",
              "      border-color: transparent;\n",
              "      border-bottom-color: var(--fill-color);\n",
              "    }\n",
              "  }\n",
              "</style>\n",
              "\n",
              "  <script>\n",
              "    async function quickchart(key) {\n",
              "      const quickchartButtonEl =\n",
              "        document.querySelector('#' + key + ' button');\n",
              "      quickchartButtonEl.disabled = true;  // To prevent multiple clicks.\n",
              "      quickchartButtonEl.classList.add('colab-df-spinner');\n",
              "      try {\n",
              "        const charts = await google.colab.kernel.invokeFunction(\n",
              "            'suggestCharts', [key], {});\n",
              "      } catch (error) {\n",
              "        console.error('Error during call to suggestCharts:', error);\n",
              "      }\n",
              "      quickchartButtonEl.classList.remove('colab-df-spinner');\n",
              "      quickchartButtonEl.classList.add('colab-df-quickchart-complete');\n",
              "    }\n",
              "    (() => {\n",
              "      let quickchartButtonEl =\n",
              "        document.querySelector('#df-277e68fc-9c27-44f0-a526-5b3b05d385d9 button');\n",
              "      quickchartButtonEl.style.display =\n",
              "        google.colab.kernel.accessAllowed ? 'block' : 'none';\n",
              "    })();\n",
              "  </script>\n",
              "</div>\n",
              "\n",
              "    </div>\n",
              "  </div>\n"
            ],
            "application/vnd.google.colaboratory.intrinsic+json": {
              "type": "dataframe",
              "summary": "{\n  \"name\": \"df\",\n  \"rows\": 8,\n  \"fields\": [\n    {\n      \"column\": \"Age\",\n      \"properties\": {\n        \"dtype\": \"number\",\n        \"std\": 25528.878592951387,\n        \"min\": 9.67858023993359,\n        \"max\": 72238.0,\n        \"num_unique_values\": 8,\n        \"samples\": [\n          34.389338021539906,\n          34.0,\n          72238.0\n        ],\n        \"semantic_type\": \"\",\n        \"description\": \"\"\n      }\n    },\n    {\n      \"column\": \"Annual_Income\",\n      \"properties\": {\n        \"dtype\": \"number\",\n        \"std\": 8476992.125891116,\n        \"min\": 7005.93,\n        \"max\": 24198062.0,\n        \"num_unique_values\": 8,\n        \"samples\": [\n          177591.67054860323,\n          37754.78,\n          72238.0\n        ],\n        \"semantic_type\": \"\",\n        \"description\": \"\"\n      }\n    },\n    {\n      \"column\": \"Num_Bank_Accounts\",\n      \"properties\": {\n        \"dtype\": \"number\",\n        \"std\": 25449.210892856907,\n        \"min\": 0.0,\n        \"max\": 72238.0,\n        \"num_unique_values\": 8,\n        \"samples\": [\n          16.941026302290513,\n          6.0,\n          72238.0\n        ],\n        \"semantic_type\": \"\",\n        \"description\": \"\"\n      }\n    },\n    {\n      \"column\": \"Num_Credit_Card\",\n      \"properties\": {\n        \"dtype\": \"number\",\n        \"std\": 25461.087278022642,\n        \"min\": 0.0,\n        \"max\": 72238.0,\n        \"num_unique_values\": 8,\n        \"samples\": [\n          22.389490295966112,\n          5.0,\n          72238.0\n        ],\n        \"semantic_type\": \"\",\n        \"description\": \"\"\n      }\n    },\n    {\n      \"column\": \"Interest_Rate\",\n      \"properties\": {\n        \"dtype\": \"number\",\n        \"std\": 25296.72680003738,\n        \"min\": 1.0,\n        \"max\": 72238.0,\n        \"num_unique_values\": 8,\n        \"samples\": [\n          73.82190813699161,\n          13.0,\n          72238.0\n        ],\n        \"semantic_type\": \"\",\n        \"description\": \"\"\n      }\n    },\n    {\n      \"column\": \"Num_of_Loan\",\n      \"properties\": {\n        \"dtype\": \"number\",\n        \"std\": 25465.841518904574,\n        \"min\": 0.0,\n        \"max\": 72238.0,\n        \"num_unique_values\": 8,\n        \"samples\": [\n          7.011034408108173,\n          3.0,\n          72238.0\n        ],\n        \"semantic_type\": \"\",\n        \"description\": \"\"\n      }\n    },\n    {\n      \"column\": \"Delay_from_due_date\",\n      \"properties\": {\n        \"dtype\": \"number\",\n        \"std\": 25531.969752424913,\n        \"min\": 0.0,\n        \"max\": 72238.0,\n        \"num_unique_values\": 8,\n        \"samples\": [\n          21.21464053175107,\n          18.0,\n          72238.0\n        ],\n        \"semantic_type\": \"\",\n        \"description\": \"\"\n      }\n    },\n    {\n      \"column\": \"Changed_Credit_Limit\",\n      \"properties\": {\n        \"dtype\": \"number\",\n        \"std\": 25535.755130043122,\n        \"min\": 0.0,\n        \"max\": 72238.0,\n        \"num_unique_values\": 8,\n        \"samples\": [\n          10.611477358327914,\n          9.65,\n          72238.0\n        ],\n        \"semantic_type\": \"\",\n        \"description\": \"\"\n      }\n    },\n    {\n      \"column\": \"Num_Credit_Inquiries\",\n      \"properties\": {\n        \"dtype\": \"number\",\n        \"std\": 25412.77597302142,\n        \"min\": 0.0,\n        \"max\": 72238.0,\n        \"num_unique_values\": 8,\n        \"samples\": [\n          27.595233388868497,\n          6.0,\n          72238.0\n        ],\n        \"semantic_type\": \"\",\n        \"description\": \"\"\n      }\n    },\n    {\n      \"column\": \"Outstanding_Debt\",\n      \"properties\": {\n        \"dtype\": \"number\",\n        \"std\": 25015.313429439702,\n        \"min\": 0.23,\n        \"max\": 72238.0,\n        \"num_unique_values\": 8,\n        \"samples\": [\n          1429.7788910268835,\n          1169.2,\n          72238.0\n        ],\n        \"semantic_type\": \"\",\n        \"description\": \"\"\n      }\n    },\n    {\n      \"column\": \"Credit_Utilization_Ratio\",\n      \"properties\": {\n        \"dtype\": \"number\",\n        \"std\": 25529.67734077735,\n        \"min\": 5.112848362161835,\n        \"max\": 72238.0,\n        \"num_unique_values\": 8,\n        \"samples\": [\n          32.282919873985264,\n          32.2970639339756,\n          72238.0\n        ],\n        \"semantic_type\": \"\",\n        \"description\": \"\"\n      }\n    }\n  ]\n}"
            }
          },
          "metadata": {},
          "execution_count": 292
        }
      ]
    },
    {
      "cell_type": "markdown",
      "source": [
        "## Feature Selection"
      ],
      "metadata": {
        "id": "VNx8qhQSwYOp"
      }
    },
    {
      "cell_type": "markdown",
      "source": [
        "A seleção de características é o processo de escolher as características mais relevantes e informativas de um conjunto de dados para melhorar a precisão e a eficiência dos modelos de machine learning, reduzindo a dimensionalidade e eliminando características irrelevantes ou redundantes."
      ],
      "metadata": {
        "id": "QjnI3ueuzHWH"
      }
    },
    {
      "cell_type": "markdown",
      "source": [
        "### Correlation Matrix"
      ],
      "metadata": {
        "id": "0RYh879CwYan"
      }
    },
    {
      "cell_type": "code",
      "source": [
        "# plot correlation Matrix\n",
        "num_attributes = df.select_dtypes(exclude=['object'])\n",
        "correlation = num_attributes.corr(method = 'pearson')\n",
        "\n",
        "plt.figure(figsize=(15, 6))\n",
        "sns.heatmap(correlation, annot = True);"
      ],
      "metadata": {
        "colab": {
          "base_uri": "https://localhost:8080/",
          "height": 675
        },
        "id": "7q9xqYxvwf-Y",
        "outputId": "f698062f-8886-4111-d8d6-2a0cbb0184f0"
      },
      "execution_count": 293,
      "outputs": [
        {
          "output_type": "display_data",
          "data": {
            "text/plain": [
              "<Figure size 1500x600 with 2 Axes>"
            ],
            "image/png": "[encoded data removed]"
          },
          "metadata": {}
        }
      ]
    },
    {
      "cell_type": "code",
      "source": [
        "#drop high corr column\n",
        "df = df.drop('Outstanding_Debt', axis = 1)"
      ],
      "metadata": {
        "id": "yI6hm6Jyxhkk"
      },
      "execution_count": 294,
      "outputs": []
    },
    {
      "cell_type": "markdown",
      "source": [
        "**📝 Feature Selection - Outros Métodos**\n",
        "\n",
        "1. Métodos de Filtro: Avaliam características com base em propriedades estatísticas como correlação ou variância.\n",
        "\n",
        "2. Análise de Componentes Principais (PCA): Reduz a dimensionalidade transformando características em um espaço dimensional menor.\n",
        "\n",
        "3. Importância de Características de Árvores: Modelos como Árvores de Decisão fornecem pontuações de importância de características.\n",
        "\n",
        "4. Seleção de Características Univariadas: Seleciona características com base em testes estatísticos univariados."
      ],
      "metadata": {
        "id": "DEtZ_aMfx2_E"
      }
    },
    {
      "cell_type": "markdown",
      "source": [
        "## Data Preparation"
      ],
      "metadata": {
        "id": "sC9ECbBrveIj"
      }
    },
    {
      "cell_type": "markdown",
      "source": [
        "Normalização é o processo de ajustar os valores das características para uma escala comum.\n",
        "\n",
        "Encoding é a conversão de variáveis categóricas em uma forma numérica para que possam ser usadas em algoritmos de machine learning."
      ],
      "metadata": {
        "id": "vgcDOJd3zUMu"
      }
    },
    {
      "cell_type": "markdown",
      "source": [
        "### Normalization"
      ],
      "metadata": {
        "id": "PemeAN2bv9Jo"
      }
    },
    {
      "cell_type": "code",
      "source": [
        "len(num_attributes.columns)"
      ],
      "metadata": {
        "colab": {
          "base_uri": "https://localhost:8080/"
        },
        "id": "Xyrnk0PRv_7N",
        "outputId": "69e15f58-48ac-4427-95cb-481a09e6f02b"
      },
      "execution_count": 295,
      "outputs": [
        {
          "output_type": "execute_result",
          "data": {
            "text/plain": [
              "11"
            ]
          },
          "metadata": {},
          "execution_count": 295
        }
      ]
    },
    {
      "cell_type": "code",
      "source": [
        "num_attributes.describe().loc['mean']\n"
      ],
      "metadata": {
        "colab": {
          "base_uri": "https://localhost:8080/"
        },
        "id": "x6EwNK8-3IyX",
        "outputId": "cc5678ec-d0fe-43c9-f98a-8095fd90a141"
      },
      "execution_count": 296,
      "outputs": [
        {
          "output_type": "execute_result",
          "data": {
            "text/plain": [
              "Age                             34.389338\n",
              "Annual_Income               177591.670549\n",
              "Num_Bank_Accounts               16.941026\n",
              "Num_Credit_Card                 22.389490\n",
              "Interest_Rate                   73.821908\n",
              "Num_of_Loan                      7.011034\n",
              "Delay_from_due_date             21.214641\n",
              "Changed_Credit_Limit            10.611477\n",
              "Num_Credit_Inquiries            27.595233\n",
              "Outstanding_Debt              1429.778891\n",
              "Credit_Utilization_Ratio        32.282920\n",
              "Name: mean, dtype: float64"
            ]
          },
          "metadata": {},
          "execution_count": 296
        }
      ]
    },
    {
      "cell_type": "code",
      "source": [
        "rs = RobustScaler()\n",
        "df['Annual_Income'] = rs.fit_transform(df[['Annual_Income']].values)"
      ],
      "metadata": {
        "id": "9R4Epf9o8k4n"
      },
      "execution_count": 297,
      "outputs": []
    },
    {
      "cell_type": "code",
      "source": [
        "print(df['Annual_Income'].min())\n",
        "print(df['Annual_Income'].max())\n",
        "print(df['Annual_Income'].mean())"
      ],
      "metadata": {
        "colab": {
          "base_uri": "https://localhost:8080/"
        },
        "id": "ZjsXPJEx8k9A",
        "outputId": "aa3533a0-f4b3-4ad1-9341-21c99f193d63"
      },
      "execution_count": 298,
      "outputs": [
        {
          "output_type": "stream",
          "name": "stdout",
          "text": [
            "-0.5762270018265674\n",
            "452.7590915624281\n",
            "2.620514008997784\n"
          ]
        }
      ]
    },
    {
      "cell_type": "markdown",
      "source": [
        "\n",
        "**📝 Normalização - Outros Métodos**\n",
        "\n",
        "\n",
        "1. MinMaxScaler: Redimensiona os valores para um intervalo específico, geralmente entre 0 e 1.\n",
        "\n",
        "2. StandardScaler: Padroniza os valores para que tenham uma média de 0 e um desvio padrão de 1.\n",
        "\n",
        "3. Escalonamento personalizado: adapta a transformação dos dados para atender às necessidades específicas do conjunto de dados ou do problema em questão.\n"
      ],
      "metadata": {
        "id": "4avgG6ZY8N-4"
      }
    },
    {
      "cell_type": "markdown",
      "source": [
        "### Encoding"
      ],
      "metadata": {
        "id": "DrvMQfYSv_TT"
      }
    },
    {
      "cell_type": "code",
      "source": [
        "df[categorical_columns].head()"
      ],
      "metadata": {
        "colab": {
          "base_uri": "https://localhost:8080/",
          "height": 206
        },
        "id": "L2dt1JS2-xa7",
        "outputId": "3f9f4691-e7d7-4d25-de20-e66c9a5dae4a"
      },
      "execution_count": 299,
      "outputs": [
        {
          "output_type": "execute_result",
          "data": {
            "text/plain": [
              "  Occupation Credit_Mix Payment_of_Min_Amount  \\\n",
              "0  Scientist       Good                    No   \n",
              "1  Scientist       Good                    No   \n",
              "2  Scientist       Good                    No   \n",
              "3  Scientist       Good                    No   \n",
              "4  Scientist       Good                    No   \n",
              "\n",
              "                  Payment_Behaviour Credit_Score  \n",
              "0    Low_spent_Large_value_payments         Good  \n",
              "1    Low_spent_Small_value_payments         Good  \n",
              "2  High_spent_Medium_value_payments         Good  \n",
              "3                            !@9#%8         Good  \n",
              "4  High_spent_Medium_value_payments     Standard  "
            ],
            "text/html": [
              "\n",
              "  <div id=\"df-e491ff2e-ef84-4a5b-ba32-c21768a165e7\" class=\"colab-df-container\">\n",
              "    <div>\n",
              "<style scoped>\n",
              "    .dataframe tbody tr th:only-of-type {\n",
              "        vertical-align: middle;\n",
              "    }\n",
              "\n",
              "    .dataframe tbody tr th {\n",
              "        vertical-align: top;\n",
              "    }\n",
              "\n",
              "    .dataframe thead th {\n",
              "        text-align: right;\n",
              "    }\n",
              "</style>\n",
              "<table border=\"1\" class=\"dataframe\">\n",
              "  <thead>\n",
              "    <tr style=\"text-align: right;\">\n",
              "      <th></th>\n",
              "      <th>Occupation</th>\n",
              "      <th>Credit_Mix</th>\n",
              "      <th>Payment_of_Min_Amount</th>\n",
              "      <th>Payment_Behaviour</th>\n",
              "      <th>Credit_Score</th>\n",
              "    </tr>\n",
              "  </thead>\n",
              "  <tbody>\n",
              "    <tr>\n",
              "      <th>0</th>\n",
              "      <td>Scientist</td>\n",
              "      <td>Good</td>\n",
              "      <td>No</td>\n",
              "      <td>Low_spent_Large_value_payments</td>\n",
              "      <td>Good</td>\n",
              "    </tr>\n",
              "    <tr>\n",
              "      <th>1</th>\n",
              "      <td>Scientist</td>\n",
              "      <td>Good</td>\n",
              "      <td>No</td>\n",
              "      <td>Low_spent_Small_value_payments</td>\n",
              "      <td>Good</td>\n",
              "    </tr>\n",
              "    <tr>\n",
              "      <th>2</th>\n",
              "      <td>Scientist</td>\n",
              "      <td>Good</td>\n",
              "      <td>No</td>\n",
              "      <td>High_spent_Medium_value_payments</td>\n",
              "      <td>Good</td>\n",
              "    </tr>\n",
              "    <tr>\n",
              "      <th>3</th>\n",
              "      <td>Scientist</td>\n",
              "      <td>Good</td>\n",
              "      <td>No</td>\n",
              "      <td>!@9#%8</td>\n",
              "      <td>Good</td>\n",
              "    </tr>\n",
              "    <tr>\n",
              "      <th>4</th>\n",
              "      <td>Scientist</td>\n",
              "      <td>Good</td>\n",
              "      <td>No</td>\n",
              "      <td>High_spent_Medium_value_payments</td>\n",
              "      <td>Standard</td>\n",
              "    </tr>\n",
              "  </tbody>\n",
              "</table>\n",
              "</div>\n",
              "    <div class=\"colab-df-buttons\">\n",
              "\n",
              "  <div class=\"colab-df-container\">\n",
              "    <button class=\"colab-df-convert\" onclick=\"convertToInteractive('df-e491ff2e-ef84-4a5b-ba32-c21768a165e7')\"\n",
              "            title=\"Convert this dataframe to an interactive table.\"\n",
              "            style=\"display:none;\">\n",
              "\n",
              "  <svg xmlns=\"http://www.w3.org/2000/svg\" height=\"24px\" viewBox=\"0 -960 960 960\">\n",
              "    <path d=\"M120-120v-720h720v720H120Zm60-500h600v-160H180v160Zm220 220h160v-160H400v160Zm0 220h160v-160H400v160ZM180-400h160v-160H180v160Zm440 0h160v-160H620v160ZM180-180h160v-160H180v160Zm440 0h160v-160H620v160Z\"/>\n",
              "  </svg>\n",
              "    </button>\n",
              "\n",
              "  <style>\n",
              "    .colab-df-container {\n",
              "      display:flex;\n",
              "      gap: 12px;\n",
              "    }\n",
              "\n",
              "    .colab-df-convert {\n",
              "      background-color: #E8F0FE;\n",
              "      border: none;\n",
              "      border-radius: 50%;\n",
              "      cursor: pointer;\n",
              "      display: none;\n",
              "      fill: #1967D2;\n",
              "      height: 32px;\n",
              "      padding: 0 0 0 0;\n",
              "      width: 32px;\n",
              "    }\n",
              "\n",
              "    .colab-df-convert:hover {\n",
              "      background-color: #E2EBFA;\n",
              "      box-shadow: 0px 1px 2px rgba(60, 64, 67, 0.3), 0px 1px 3px 1px rgba(60, 64, 67, 0.15);\n",
              "      fill: #174EA6;\n",
              "    }\n",
              "\n",
              "    .colab-df-buttons div {\n",
              "      margin-bottom: 4px;\n",
              "    }\n",
              "\n",
              "    [theme=dark] .colab-df-convert {\n",
              "      background-color: #3B4455;\n",
              "      fill: #D2E3FC;\n",
              "    }\n",
              "\n",
              "    [theme=dark] .colab-df-convert:hover {\n",
              "      background-color: #434B5C;\n",
              "      box-shadow: 0px 1px 3px 1px rgba(0, 0, 0, 0.15);\n",
              "      filter: drop-shadow(0px 1px 2px rgba(0, 0, 0, 0.3));\n",
              "      fill: #FFFFFF;\n",
              "    }\n",
              "  </style>\n",
              "\n",
              "    <script>\n",
              "      const buttonEl =\n",
              "        document.querySelector('#df-e491ff2e-ef84-4a5b-ba32-c21768a165e7 button.colab-df-convert');\n",
              "      buttonEl.style.display =\n",
              "        google.colab.kernel.accessAllowed ? 'block' : 'none';\n",
              "\n",
              "      async function convertToInteractive(key) {\n",
              "        const element = document.querySelector('#df-e491ff2e-ef84-4a5b-ba32-c21768a165e7');\n",
              "        const dataTable =\n",
              "          await google.colab.kernel.invokeFunction('convertToInteractive',\n",
              "                                                    [key], {});\n",
              "        if (!dataTable) return;\n",
              "\n",
              "        const docLinkHtml = 'Like what you see? Visit the ' +\n",
              "          '<a target=\"_blank\" href=https://colab.research.google.com/notebooks/data_table.ipynb>data table notebook</a>'\n",
              "          + ' to learn more about interactive tables.';\n",
              "        element.innerHTML = '';\n",
              "        dataTable['output_type'] = 'display_data';\n",
              "        await google.colab.output.renderOutput(dataTable, element);\n",
              "        const docLink = document.createElement('div');\n",
              "        docLink.innerHTML = docLinkHtml;\n",
              "        element.appendChild(docLink);\n",
              "      }\n",
              "    </script>\n",
              "  </div>\n",
              "\n",
              "\n",
              "<div id=\"df-e04d0fc2-28c3-4862-99b9-35baac5b383e\">\n",
              "  <button class=\"colab-df-quickchart\" onclick=\"quickchart('df-e04d0fc2-28c3-4862-99b9-35baac5b383e')\"\n",
              "            title=\"Suggest charts\"\n",
              "            style=\"display:none;\">\n",
              "\n",
              "<svg xmlns=\"http://www.w3.org/2000/svg\" height=\"24px\"viewBox=\"0 0 24 24\"\n",
              "     width=\"24px\">\n",
              "    <g>\n",
              "        <path d=\"M19 3H5c-1.1 0-2 .9-2 2v14c0 1.1.9 2 2 2h14c1.1 0 2-.9 2-2V5c0-1.1-.9-2-2-2zM9 17H7v-7h2v7zm4 0h-2V7h2v10zm4 0h-2v-4h2v4z\"/>\n",
              "    </g>\n",
              "</svg>\n",
              "  </button>\n",
              "\n",
              "<style>\n",
              "  .colab-df-quickchart {\n",
              "      --bg-color: #E8F0FE;\n",
              "      --fill-color: #1967D2;\n",
              "      --hover-bg-color: #E2EBFA;\n",
              "      --hover-fill-color: #174EA6;\n",
              "      --disabled-fill-color: #AAA;\n",
              "      --disabled-bg-color: #DDD;\n",
              "  }\n",
              "\n",
              "  [theme=dark] .colab-df-quickchart {\n",
              "      --bg-color: #3B4455;\n",
              "      --fill-color: #D2E3FC;\n",
              "      --hover-bg-color: #434B5C;\n",
              "      --hover-fill-color: #FFFFFF;\n",
              "      --disabled-bg-color: #3B4455;\n",
              "      --disabled-fill-color: #666;\n",
              "  }\n",
              "\n",
              "  .colab-df-quickchart {\n",
              "    background-color: var(--bg-color);\n",
              "    border: none;\n",
              "    border-radius: 50%;\n",
              "    cursor: pointer;\n",
              "    display: none;\n",
              "    fill: var(--fill-color);\n",
              "    height: 32px;\n",
              "    padding: 0;\n",
              "    width: 32px;\n",
              "  }\n",
              "\n",
              "  .colab-df-quickchart:hover {\n",
              "    background-color: var(--hover-bg-color);\n",
              "    box-shadow: 0 1px 2px rgba(60, 64, 67, 0.3), 0 1px 3px 1px rgba(60, 64, 67, 0.15);\n",
              "    fill: var(--button-hover-fill-color);\n",
              "  }\n",
              "\n",
              "  .colab-df-quickchart-complete:disabled,\n",
              "  .colab-df-quickchart-complete:disabled:hover {\n",
              "    background-color: var(--disabled-bg-color);\n",
              "    fill: var(--disabled-fill-color);\n",
              "    box-shadow: none;\n",
              "  }\n",
              "\n",
              "  .colab-df-spinner {\n",
              "    border: 2px solid var(--fill-color);\n",
              "    border-color: transparent;\n",
              "    border-bottom-color: var(--fill-color);\n",
              "    animation:\n",
              "      spin 1s steps(1) infinite;\n",
              "  }\n",
              "\n",
              "  @keyframes spin {\n",
              "    0% {\n",
              "      border-color: transparent;\n",
              "      border-bottom-color: var(--fill-color);\n",
              "      border-left-color: var(--fill-color);\n",
              "    }\n",
              "    20% {\n",
              "      border-color: transparent;\n",
              "      border-left-color: var(--fill-color);\n",
              "      border-top-color: var(--fill-color);\n",
              "    }\n",
              "    30% {\n",
              "      border-color: transparent;\n",
              "      border-left-color: var(--fill-color);\n",
              "      border-top-color: var(--fill-color);\n",
              "      border-right-color: var(--fill-color);\n",
              "    }\n",
              "    40% {\n",
              "      border-color: transparent;\n",
              "      border-right-color: var(--fill-color);\n",
              "      border-top-color: var(--fill-color);\n",
              "    }\n",
              "    60% {\n",
              "      border-color: transparent;\n",
              "      border-right-color: var(--fill-color);\n",
              "    }\n",
              "    80% {\n",
              "      border-color: transparent;\n",
              "      border-right-color: var(--fill-color);\n",
              "      border-bottom-color: var(--fill-color);\n",
              "    }\n",
              "    90% {\n",
              "      border-color: transparent;\n",
              "      border-bottom-color: var(--fill-color);\n",
              "    }\n",
              "  }\n",
              "</style>\n",
              "\n",
              "  <script>\n",
              "    async function quickchart(key) {\n",
              "      const quickchartButtonEl =\n",
              "        document.querySelector('#' + key + ' button');\n",
              "      quickchartButtonEl.disabled = true;  // To prevent multiple clicks.\n",
              "      quickchartButtonEl.classList.add('colab-df-spinner');\n",
              "      try {\n",
              "        const charts = await google.colab.kernel.invokeFunction(\n",
              "            'suggestCharts', [key], {});\n",
              "      } catch (error) {\n",
              "        console.error('Error during call to suggestCharts:', error);\n",
              "      }\n",
              "      quickchartButtonEl.classList.remove('colab-df-spinner');\n",
              "      quickchartButtonEl.classList.add('colab-df-quickchart-complete');\n",
              "    }\n",
              "    (() => {\n",
              "      let quickchartButtonEl =\n",
              "        document.querySelector('#df-e04d0fc2-28c3-4862-99b9-35baac5b383e button');\n",
              "      quickchartButtonEl.style.display =\n",
              "        google.colab.kernel.accessAllowed ? 'block' : 'none';\n",
              "    })();\n",
              "  </script>\n",
              "</div>\n",
              "\n",
              "    </div>\n",
              "  </div>\n"
            ],
            "application/vnd.google.colaboratory.intrinsic+json": {
              "type": "dataframe",
              "summary": "{\n  \"name\": \"df[categorical_columns]\",\n  \"rows\": 5,\n  \"fields\": [\n    {\n      \"column\": \"Occupation\",\n      \"properties\": {\n        \"dtype\": \"category\",\n        \"num_unique_values\": 1,\n        \"samples\": [\n          \"Scientist\"\n        ],\n        \"semantic_type\": \"\",\n        \"description\": \"\"\n      }\n    },\n    {\n      \"column\": \"Credit_Mix\",\n      \"properties\": {\n        \"dtype\": \"category\",\n        \"num_unique_values\": 1,\n        \"samples\": [\n          \"Good\"\n        ],\n        \"semantic_type\": \"\",\n        \"description\": \"\"\n      }\n    },\n    {\n      \"column\": \"Payment_of_Min_Amount\",\n      \"properties\": {\n        \"dtype\": \"category\",\n        \"num_unique_values\": 1,\n        \"samples\": [\n          \"No\"\n        ],\n        \"semantic_type\": \"\",\n        \"description\": \"\"\n      }\n    },\n    {\n      \"column\": \"Payment_Behaviour\",\n      \"properties\": {\n        \"dtype\": \"string\",\n        \"num_unique_values\": 4,\n        \"samples\": [\n          \"Low_spent_Small_value_payments\"\n        ],\n        \"semantic_type\": \"\",\n        \"description\": \"\"\n      }\n    },\n    {\n      \"column\": \"Credit_Score\",\n      \"properties\": {\n        \"dtype\": \"category\",\n        \"num_unique_values\": 2,\n        \"samples\": [\n          \"Standard\"\n        ],\n        \"semantic_type\": \"\",\n        \"description\": \"\"\n      }\n    }\n  ]\n}"
            }
          },
          "metadata": {},
          "execution_count": 299
        }
      ]
    },
    {
      "cell_type": "markdown",
      "source": [
        "### Credit Score - Target Variable"
      ],
      "metadata": {
        "id": "zMxTvgD7Aojr"
      }
    },
    {
      "cell_type": "code",
      "source": [
        "# #credit score - target variable\n",
        "df['Credit_Score'].unique()"
      ],
      "metadata": {
        "colab": {
          "base_uri": "https://localhost:8080/"
        },
        "id": "YCwzE5wv_9SS",
        "outputId": "4e0d1306-58c5-42cf-cba7-84887e67620f"
      },
      "execution_count": 300,
      "outputs": [
        {
          "output_type": "execute_result",
          "data": {
            "text/plain": [
              "array(['Good', 'Standard', 'Poor'], dtype=object)"
            ]
          },
          "metadata": {},
          "execution_count": 300
        }
      ]
    },
    {
      "cell_type": "code",
      "source": [
        "credit_score_dict = {'Good':      0,\n",
        "                     'Standard' : 1,\n",
        "                     'Poor' :     2}\n",
        "\n",
        "df['Credit_Score'] = df['Credit_Score'].map(credit_score_dict)\n",
        "\n",
        "print(df['Credit_Score'].value_counts())"
      ],
      "metadata": {
        "colab": {
          "base_uri": "https://localhost:8080/"
        },
        "id": "rZwd0asw_9sr",
        "outputId": "36242aab-fcd3-4d3a-eae2-1e32d765b2f8"
      },
      "execution_count": 301,
      "outputs": [
        {
          "output_type": "stream",
          "name": "stdout",
          "text": [
            "1    38455\n",
            "2    20942\n",
            "0    12841\n",
            "Name: Credit_Score, dtype: int64\n"
          ]
        }
      ]
    },
    {
      "cell_type": "markdown",
      "source": [
        "### Other Variables"
      ],
      "metadata": {
        "id": "_ePB-t9MAraQ"
      }
    },
    {
      "cell_type": "code",
      "source": [
        "df['Occupation'].value_counts()"
      ],
      "metadata": {
        "colab": {
          "base_uri": "https://localhost:8080/"
        },
        "id": "TNqOfqd1v-l2",
        "outputId": "c4b39367-4c79-4b2e-b94b-72b4e31e0d43"
      },
      "execution_count": 302,
      "outputs": [
        {
          "output_type": "execute_result",
          "data": {
            "text/plain": [
              "Unknown          5121\n",
              "Lawyer           4730\n",
              "Architect        4625\n",
              "Engineer         4607\n",
              "Scientist        4563\n",
              "Accountant       4551\n",
              "Mechanic         4546\n",
              "Media_Manager    4505\n",
              "Developer        4496\n",
              "Teacher          4467\n",
              "Journalist       4427\n",
              "Entrepreneur     4424\n",
              "Doctor           4383\n",
              "Musician         4281\n",
              "Manager          4279\n",
              "Writer           4233\n",
              "Name: Occupation, dtype: int64"
            ]
          },
          "metadata": {},
          "execution_count": 302
        }
      ]
    },
    {
      "cell_type": "code",
      "source": [
        "categorical_columns = df.select_dtypes(include=['object']).columns\n",
        "\n",
        "for column in df[categorical_columns].columns:\n",
        "  count_encoding = df[column].value_counts()\n",
        "\n",
        "  df[f'encoded_{column}'] = df[column].map(count_encoding)\n",
        "  df.drop(columns=column,axis=1,inplace=True)"
      ],
      "metadata": {
        "id": "tr7Q7LVe-thp"
      },
      "execution_count": 303,
      "outputs": []
    },
    {
      "cell_type": "code",
      "source": [
        "#only columns that contains 'enconded'\n",
        "df.filter(regex='encoded').head()"
      ],
      "metadata": {
        "colab": {
          "base_uri": "https://localhost:8080/",
          "height": 206
        },
        "id": "vBB_MxC1A6Gb",
        "outputId": "1f3b85e0-07de-4949-fbb7-8c15f469531c"
      },
      "execution_count": 304,
      "outputs": [
        {
          "output_type": "execute_result",
          "data": {
            "text/plain": [
              "   encoded_Occupation  encoded_Credit_Mix  encoded_Payment_of_Min_Amount  \\\n",
              "0                4563               22006                          25781   \n",
              "1                4563               22006                          25781   \n",
              "2                4563               22006                          25781   \n",
              "3                4563               22006                          25781   \n",
              "4                4563               22006                          25781   \n",
              "\n",
              "   encoded_Payment_Behaviour  \n",
              "0                       7560  \n",
              "1                      18318  \n",
              "2                      12725  \n",
              "3                       5527  \n",
              "4                      12725  "
            ],
            "text/html": [
              "\n",
              "  <div id=\"df-9b5a2e05-727c-4e81-88e1-554c8b4edef3\" class=\"colab-df-container\">\n",
              "    <div>\n",
              "<style scoped>\n",
              "    .dataframe tbody tr th:only-of-type {\n",
              "        vertical-align: middle;\n",
              "    }\n",
              "\n",
              "    .dataframe tbody tr th {\n",
              "        vertical-align: top;\n",
              "    }\n",
              "\n",
              "    .dataframe thead th {\n",
              "        text-align: right;\n",
              "    }\n",
              "</style>\n",
              "<table border=\"1\" class=\"dataframe\">\n",
              "  <thead>\n",
              "    <tr style=\"text-align: right;\">\n",
              "      <th></th>\n",
              "      <th>encoded_Occupation</th>\n",
              "      <th>encoded_Credit_Mix</th>\n",
              "      <th>encoded_Payment_of_Min_Amount</th>\n",
              "      <th>encoded_Payment_Behaviour</th>\n",
              "    </tr>\n",
              "  </thead>\n",
              "  <tbody>\n",
              "    <tr>\n",
              "      <th>0</th>\n",
              "      <td>4563</td>\n",
              "      <td>22006</td>\n",
              "      <td>25781</td>\n",
              "      <td>7560</td>\n",
              "    </tr>\n",
              "    <tr>\n",
              "      <th>1</th>\n",
              "      <td>4563</td>\n",
              "      <td>22006</td>\n",
              "      <td>25781</td>\n",
              "      <td>18318</td>\n",
              "    </tr>\n",
              "    <tr>\n",
              "      <th>2</th>\n",
              "      <td>4563</td>\n",
              "      <td>22006</td>\n",
              "      <td>25781</td>\n",
              "      <td>12725</td>\n",
              "    </tr>\n",
              "    <tr>\n",
              "      <th>3</th>\n",
              "      <td>4563</td>\n",
              "      <td>22006</td>\n",
              "      <td>25781</td>\n",
              "      <td>5527</td>\n",
              "    </tr>\n",
              "    <tr>\n",
              "      <th>4</th>\n",
              "      <td>4563</td>\n",
              "      <td>22006</td>\n",
              "      <td>25781</td>\n",
              "      <td>12725</td>\n",
              "    </tr>\n",
              "  </tbody>\n",
              "</table>\n",
              "</div>\n",
              "    <div class=\"colab-df-buttons\">\n",
              "\n",
              "  <div class=\"colab-df-container\">\n",
              "    <button class=\"colab-df-convert\" onclick=\"convertToInteractive('df-9b5a2e05-727c-4e81-88e1-554c8b4edef3')\"\n",
              "            title=\"Convert this dataframe to an interactive table.\"\n",
              "            style=\"display:none;\">\n",
              "\n",
              "  <svg xmlns=\"http://www.w3.org/2000/svg\" height=\"24px\" viewBox=\"0 -960 960 960\">\n",
              "    <path d=\"M120-120v-720h720v720H120Zm60-500h600v-160H180v160Zm220 220h160v-160H400v160Zm0 220h160v-160H400v160ZM180-400h160v-160H180v160Zm440 0h160v-160H620v160ZM180-180h160v-160H180v160Zm440 0h160v-160H620v160Z\"/>\n",
              "  </svg>\n",
              "    </button>\n",
              "\n",
              "  <style>\n",
              "    .colab-df-container {\n",
              "      display:flex;\n",
              "      gap: 12px;\n",
              "    }\n",
              "\n",
              "    .colab-df-convert {\n",
              "      background-color: #E8F0FE;\n",
              "      border: none;\n",
              "      border-radius: 50%;\n",
              "      cursor: pointer;\n",
              "      display: none;\n",
              "      fill: #1967D2;\n",
              "      height: 32px;\n",
              "      padding: 0 0 0 0;\n",
              "      width: 32px;\n",
              "    }\n",
              "\n",
              "    .colab-df-convert:hover {\n",
              "      background-color: #E2EBFA;\n",
              "      box-shadow: 0px 1px 2px rgba(60, 64, 67, 0.3), 0px 1px 3px 1px rgba(60, 64, 67, 0.15);\n",
              "      fill: #174EA6;\n",
              "    }\n",
              "\n",
              "    .colab-df-buttons div {\n",
              "      margin-bottom: 4px;\n",
              "    }\n",
              "\n",
              "    [theme=dark] .colab-df-convert {\n",
              "      background-color: #3B4455;\n",
              "      fill: #D2E3FC;\n",
              "    }\n",
              "\n",
              "    [theme=dark] .colab-df-convert:hover {\n",
              "      background-color: #434B5C;\n",
              "      box-shadow: 0px 1px 3px 1px rgba(0, 0, 0, 0.15);\n",
              "      filter: drop-shadow(0px 1px 2px rgba(0, 0, 0, 0.3));\n",
              "      fill: #FFFFFF;\n",
              "    }\n",
              "  </style>\n",
              "\n",
              "    <script>\n",
              "      const buttonEl =\n",
              "        document.querySelector('#df-9b5a2e05-727c-4e81-88e1-554c8b4edef3 button.colab-df-convert');\n",
              "      buttonEl.style.display =\n",
              "        google.colab.kernel.accessAllowed ? 'block' : 'none';\n",
              "\n",
              "      async function convertToInteractive(key) {\n",
              "        const element = document.querySelector('#df-9b5a2e05-727c-4e81-88e1-554c8b4edef3');\n",
              "        const dataTable =\n",
              "          await google.colab.kernel.invokeFunction('convertToInteractive',\n",
              "                                                    [key], {});\n",
              "        if (!dataTable) return;\n",
              "\n",
              "        const docLinkHtml = 'Like what you see? Visit the ' +\n",
              "          '<a target=\"_blank\" href=https://colab.research.google.com/notebooks/data_table.ipynb>data table notebook</a>'\n",
              "          + ' to learn more about interactive tables.';\n",
              "        element.innerHTML = '';\n",
              "        dataTable['output_type'] = 'display_data';\n",
              "        await google.colab.output.renderOutput(dataTable, element);\n",
              "        const docLink = document.createElement('div');\n",
              "        docLink.innerHTML = docLinkHtml;\n",
              "        element.appendChild(docLink);\n",
              "      }\n",
              "    </script>\n",
              "  </div>\n",
              "\n",
              "\n",
              "<div id=\"df-51c727a9-3a8f-43f0-a38e-7e7d7b74ab41\">\n",
              "  <button class=\"colab-df-quickchart\" onclick=\"quickchart('df-51c727a9-3a8f-43f0-a38e-7e7d7b74ab41')\"\n",
              "            title=\"Suggest charts\"\n",
              "            style=\"display:none;\">\n",
              "\n",
              "<svg xmlns=\"http://www.w3.org/2000/svg\" height=\"24px\"viewBox=\"0 0 24 24\"\n",
              "     width=\"24px\">\n",
              "    <g>\n",
              "        <path d=\"M19 3H5c-1.1 0-2 .9-2 2v14c0 1.1.9 2 2 2h14c1.1 0 2-.9 2-2V5c0-1.1-.9-2-2-2zM9 17H7v-7h2v7zm4 0h-2V7h2v10zm4 0h-2v-4h2v4z\"/>\n",
              "    </g>\n",
              "</svg>\n",
              "  </button>\n",
              "\n",
              "<style>\n",
              "  .colab-df-quickchart {\n",
              "      --bg-color: #E8F0FE;\n",
              "      --fill-color: #1967D2;\n",
              "      --hover-bg-color: #E2EBFA;\n",
              "      --hover-fill-color: #174EA6;\n",
              "      --disabled-fill-color: #AAA;\n",
              "      --disabled-bg-color: #DDD;\n",
              "  }\n",
              "\n",
              "  [theme=dark] .colab-df-quickchart {\n",
              "      --bg-color: #3B4455;\n",
              "      --fill-color: #D2E3FC;\n",
              "      --hover-bg-color: #434B5C;\n",
              "      --hover-fill-color: #FFFFFF;\n",
              "      --disabled-bg-color: #3B4455;\n",
              "      --disabled-fill-color: #666;\n",
              "  }\n",
              "\n",
              "  .colab-df-quickchart {\n",
              "    background-color: var(--bg-color);\n",
              "    border: none;\n",
              "    border-radius: 50%;\n",
              "    cursor: pointer;\n",
              "    display: none;\n",
              "    fill: var(--fill-color);\n",
              "    height: 32px;\n",
              "    padding: 0;\n",
              "    width: 32px;\n",
              "  }\n",
              "\n",
              "  .colab-df-quickchart:hover {\n",
              "    background-color: var(--hover-bg-color);\n",
              "    box-shadow: 0 1px 2px rgba(60, 64, 67, 0.3), 0 1px 3px 1px rgba(60, 64, 67, 0.15);\n",
              "    fill: var(--button-hover-fill-color);\n",
              "  }\n",
              "\n",
              "  .colab-df-quickchart-complete:disabled,\n",
              "  .colab-df-quickchart-complete:disabled:hover {\n",
              "    background-color: var(--disabled-bg-color);\n",
              "    fill: var(--disabled-fill-color);\n",
              "    box-shadow: none;\n",
              "  }\n",
              "\n",
              "  .colab-df-spinner {\n",
              "    border: 2px solid var(--fill-color);\n",
              "    border-color: transparent;\n",
              "    border-bottom-color: var(--fill-color);\n",
              "    animation:\n",
              "      spin 1s steps(1) infinite;\n",
              "  }\n",
              "\n",
              "  @keyframes spin {\n",
              "    0% {\n",
              "      border-color: transparent;\n",
              "      border-bottom-color: var(--fill-color);\n",
              "      border-left-color: var(--fill-color);\n",
              "    }\n",
              "    20% {\n",
              "      border-color: transparent;\n",
              "      border-left-color: var(--fill-color);\n",
              "      border-top-color: var(--fill-color);\n",
              "    }\n",
              "    30% {\n",
              "      border-color: transparent;\n",
              "      border-left-color: var(--fill-color);\n",
              "      border-top-color: var(--fill-color);\n",
              "      border-right-color: var(--fill-color);\n",
              "    }\n",
              "    40% {\n",
              "      border-color: transparent;\n",
              "      border-right-color: var(--fill-color);\n",
              "      border-top-color: var(--fill-color);\n",
              "    }\n",
              "    60% {\n",
              "      border-color: transparent;\n",
              "      border-right-color: var(--fill-color);\n",
              "    }\n",
              "    80% {\n",
              "      border-color: transparent;\n",
              "      border-right-color: var(--fill-color);\n",
              "      border-bottom-color: var(--fill-color);\n",
              "    }\n",
              "    90% {\n",
              "      border-color: transparent;\n",
              "      border-bottom-color: var(--fill-color);\n",
              "    }\n",
              "  }\n",
              "</style>\n",
              "\n",
              "  <script>\n",
              "    async function quickchart(key) {\n",
              "      const quickchartButtonEl =\n",
              "        document.querySelector('#' + key + ' button');\n",
              "      quickchartButtonEl.disabled = true;  // To prevent multiple clicks.\n",
              "      quickchartButtonEl.classList.add('colab-df-spinner');\n",
              "      try {\n",
              "        const charts = await google.colab.kernel.invokeFunction(\n",
              "            'suggestCharts', [key], {});\n",
              "      } catch (error) {\n",
              "        console.error('Error during call to suggestCharts:', error);\n",
              "      }\n",
              "      quickchartButtonEl.classList.remove('colab-df-spinner');\n",
              "      quickchartButtonEl.classList.add('colab-df-quickchart-complete');\n",
              "    }\n",
              "    (() => {\n",
              "      let quickchartButtonEl =\n",
              "        document.querySelector('#df-51c727a9-3a8f-43f0-a38e-7e7d7b74ab41 button');\n",
              "      quickchartButtonEl.style.display =\n",
              "        google.colab.kernel.accessAllowed ? 'block' : 'none';\n",
              "    })();\n",
              "  </script>\n",
              "</div>\n",
              "\n",
              "    </div>\n",
              "  </div>\n"
            ],
            "application/vnd.google.colaboratory.intrinsic+json": {
              "type": "dataframe",
              "summary": "{\n  \"name\": \"df\",\n  \"rows\": 5,\n  \"fields\": [\n    {\n      \"column\": \"encoded_Occupation\",\n      \"properties\": {\n        \"dtype\": \"number\",\n        \"std\": 0,\n        \"min\": 4563,\n        \"max\": 4563,\n        \"num_unique_values\": 1,\n        \"samples\": [\n          4563\n        ],\n        \"semantic_type\": \"\",\n        \"description\": \"\"\n      }\n    },\n    {\n      \"column\": \"encoded_Credit_Mix\",\n      \"properties\": {\n        \"dtype\": \"number\",\n        \"std\": 0,\n        \"min\": 22006,\n        \"max\": 22006,\n        \"num_unique_values\": 1,\n        \"samples\": [\n          22006\n        ],\n        \"semantic_type\": \"\",\n        \"description\": \"\"\n      }\n    },\n    {\n      \"column\": \"encoded_Payment_of_Min_Amount\",\n      \"properties\": {\n        \"dtype\": \"number\",\n        \"std\": 0,\n        \"min\": 25781,\n        \"max\": 25781,\n        \"num_unique_values\": 1,\n        \"samples\": [\n          25781\n        ],\n        \"semantic_type\": \"\",\n        \"description\": \"\"\n      }\n    },\n    {\n      \"column\": \"encoded_Payment_Behaviour\",\n      \"properties\": {\n        \"dtype\": \"number\",\n        \"std\": 5015,\n        \"min\": 5527,\n        \"max\": 18318,\n        \"num_unique_values\": 4,\n        \"samples\": [\n          18318\n        ],\n        \"semantic_type\": \"\",\n        \"description\": \"\"\n      }\n    }\n  ]\n}"
            }
          },
          "metadata": {},
          "execution_count": 304
        }
      ]
    },
    {
      "cell_type": "code",
      "source": [
        "df.head()"
      ],
      "metadata": {
        "colab": {
          "base_uri": "https://localhost:8080/",
          "height": 226
        },
        "id": "WOqZFvv8_KNK",
        "outputId": "282f267f-795b-4d98-e49c-df3fb662a115"
      },
      "execution_count": 305,
      "outputs": [
        {
          "output_type": "execute_result",
          "data": {
            "text/plain": [
              "   Age  Annual_Income  Num_Bank_Accounts  Num_Credit_Card  Interest_Rate  \\\n",
              "0   23      -0.349322                3.0                4              3   \n",
              "1   23      -0.349322                3.0                4              3   \n",
              "2   23      -0.349322                3.0                4              3   \n",
              "3   23      -0.349322                3.0                4              3   \n",
              "4   23      -0.349322                3.0                4              3   \n",
              "\n",
              "   Num_of_Loan  Delay_from_due_date  Changed_Credit_Limit  \\\n",
              "0          4.0            21.073355                 11.27   \n",
              "1          4.0             5.000000                  6.27   \n",
              "2          4.0             6.000000                 11.27   \n",
              "3          4.0             8.000000                  9.27   \n",
              "4          4.0             3.000000                 11.27   \n",
              "\n",
              "   Num_Credit_Inquiries  Credit_Utilization_Ratio  Credit_Score  \\\n",
              "0                   4.0                 31.944960             0   \n",
              "1                   4.0                 31.377862             0   \n",
              "2                   4.0                 24.797347             0   \n",
              "3                   4.0                 27.262259             0   \n",
              "4                   4.0                 23.933795             1   \n",
              "\n",
              "   encoded_Occupation  encoded_Credit_Mix  encoded_Payment_of_Min_Amount  \\\n",
              "0                4563               22006                          25781   \n",
              "1                4563               22006                          25781   \n",
              "2                4563               22006                          25781   \n",
              "3                4563               22006                          25781   \n",
              "4                4563               22006                          25781   \n",
              "\n",
              "   encoded_Payment_Behaviour  \n",
              "0                       7560  \n",
              "1                      18318  \n",
              "2                      12725  \n",
              "3                       5527  \n",
              "4                      12725  "
            ],
            "text/html": [
              "\n",
              "  <div id=\"df-0adceb4f-57e7-49b8-b2e9-bc9d076e8264\" class=\"colab-df-container\">\n",
              "    <div>\n",
              "<style scoped>\n",
              "    .dataframe tbody tr th:only-of-type {\n",
              "        vertical-align: middle;\n",
              "    }\n",
              "\n",
              "    .dataframe tbody tr th {\n",
              "        vertical-align: top;\n",
              "    }\n",
              "\n",
              "    .dataframe thead th {\n",
              "        text-align: right;\n",
              "    }\n",
              "</style>\n",
              "<table border=\"1\" class=\"dataframe\">\n",
              "  <thead>\n",
              "    <tr style=\"text-align: right;\">\n",
              "      <th></th>\n",
              "      <th>Age</th>\n",
              "      <th>Annual_Income</th>\n",
              "      <th>Num_Bank_Accounts</th>\n",
              "      <th>Num_Credit_Card</th>\n",
              "      <th>Interest_Rate</th>\n",
              "      <th>Num_of_Loan</th>\n",
              "      <th>Delay_from_due_date</th>\n",
              "      <th>Changed_Credit_Limit</th>\n",
              "      <th>Num_Credit_Inquiries</th>\n",
              "      <th>Credit_Utilization_Ratio</th>\n",
              "      <th>Credit_Score</th>\n",
              "      <th>encoded_Occupation</th>\n",
              "      <th>encoded_Credit_Mix</th>\n",
              "      <th>encoded_Payment_of_Min_Amount</th>\n",
              "      <th>encoded_Payment_Behaviour</th>\n",
              "    </tr>\n",
              "  </thead>\n",
              "  <tbody>\n",
              "    <tr>\n",
              "      <th>0</th>\n",
              "      <td>23</td>\n",
              "      <td>-0.349322</td>\n",
              "      <td>3.0</td>\n",
              "      <td>4</td>\n",
              "      <td>3</td>\n",
              "      <td>4.0</td>\n",
              "      <td>21.073355</td>\n",
              "      <td>11.27</td>\n",
              "      <td>4.0</td>\n",
              "      <td>31.944960</td>\n",
              "      <td>0</td>\n",
              "      <td>4563</td>\n",
              "      <td>22006</td>\n",
              "      <td>25781</td>\n",
              "      <td>7560</td>\n",
              "    </tr>\n",
              "    <tr>\n",
              "      <th>1</th>\n",
              "      <td>23</td>\n",
              "      <td>-0.349322</td>\n",
              "      <td>3.0</td>\n",
              "      <td>4</td>\n",
              "      <td>3</td>\n",
              "      <td>4.0</td>\n",
              "      <td>5.000000</td>\n",
              "      <td>6.27</td>\n",
              "      <td>4.0</td>\n",
              "      <td>31.377862</td>\n",
              "      <td>0</td>\n",
              "      <td>4563</td>\n",
              "      <td>22006</td>\n",
              "      <td>25781</td>\n",
              "      <td>18318</td>\n",
              "    </tr>\n",
              "    <tr>\n",
              "      <th>2</th>\n",
              "      <td>23</td>\n",
              "      <td>-0.349322</td>\n",
              "      <td>3.0</td>\n",
              "      <td>4</td>\n",
              "      <td>3</td>\n",
              "      <td>4.0</td>\n",
              "      <td>6.000000</td>\n",
              "      <td>11.27</td>\n",
              "      <td>4.0</td>\n",
              "      <td>24.797347</td>\n",
              "      <td>0</td>\n",
              "      <td>4563</td>\n",
              "      <td>22006</td>\n",
              "      <td>25781</td>\n",
              "      <td>12725</td>\n",
              "    </tr>\n",
              "    <tr>\n",
              "      <th>3</th>\n",
              "      <td>23</td>\n",
              "      <td>-0.349322</td>\n",
              "      <td>3.0</td>\n",
              "      <td>4</td>\n",
              "      <td>3</td>\n",
              "      <td>4.0</td>\n",
              "      <td>8.000000</td>\n",
              "      <td>9.27</td>\n",
              "      <td>4.0</td>\n",
              "      <td>27.262259</td>\n",
              "      <td>0</td>\n",
              "      <td>4563</td>\n",
              "      <td>22006</td>\n",
              "      <td>25781</td>\n",
              "      <td>5527</td>\n",
              "    </tr>\n",
              "    <tr>\n",
              "      <th>4</th>\n",
              "      <td>23</td>\n",
              "      <td>-0.349322</td>\n",
              "      <td>3.0</td>\n",
              "      <td>4</td>\n",
              "      <td>3</td>\n",
              "      <td>4.0</td>\n",
              "      <td>3.000000</td>\n",
              "      <td>11.27</td>\n",
              "      <td>4.0</td>\n",
              "      <td>23.933795</td>\n",
              "      <td>1</td>\n",
              "      <td>4563</td>\n",
              "      <td>22006</td>\n",
              "      <td>25781</td>\n",
              "      <td>12725</td>\n",
              "    </tr>\n",
              "  </tbody>\n",
              "</table>\n",
              "</div>\n",
              "    <div class=\"colab-df-buttons\">\n",
              "\n",
              "  <div class=\"colab-df-container\">\n",
              "    <button class=\"colab-df-convert\" onclick=\"convertToInteractive('df-0adceb4f-57e7-49b8-b2e9-bc9d076e8264')\"\n",
              "            title=\"Convert this dataframe to an interactive table.\"\n",
              "            style=\"display:none;\">\n",
              "\n",
              "  <svg xmlns=\"http://www.w3.org/2000/svg\" height=\"24px\" viewBox=\"0 -960 960 960\">\n",
              "    <path d=\"M120-120v-720h720v720H120Zm60-500h600v-160H180v160Zm220 220h160v-160H400v160Zm0 220h160v-160H400v160ZM180-400h160v-160H180v160Zm440 0h160v-160H620v160ZM180-180h160v-160H180v160Zm440 0h160v-160H620v160Z\"/>\n",
              "  </svg>\n",
              "    </button>\n",
              "\n",
              "  <style>\n",
              "    .colab-df-container {\n",
              "      display:flex;\n",
              "      gap: 12px;\n",
              "    }\n",
              "\n",
              "    .colab-df-convert {\n",
              "      background-color: #E8F0FE;\n",
              "      border: none;\n",
              "      border-radius: 50%;\n",
              "      cursor: pointer;\n",
              "      display: none;\n",
              "      fill: #1967D2;\n",
              "      height: 32px;\n",
              "      padding: 0 0 0 0;\n",
              "      width: 32px;\n",
              "    }\n",
              "\n",
              "    .colab-df-convert:hover {\n",
              "      background-color: #E2EBFA;\n",
              "      box-shadow: 0px 1px 2px rgba(60, 64, 67, 0.3), 0px 1px 3px 1px rgba(60, 64, 67, 0.15);\n",
              "      fill: #174EA6;\n",
              "    }\n",
              "\n",
              "    .colab-df-buttons div {\n",
              "      margin-bottom: 4px;\n",
              "    }\n",
              "\n",
              "    [theme=dark] .colab-df-convert {\n",
              "      background-color: #3B4455;\n",
              "      fill: #D2E3FC;\n",
              "    }\n",
              "\n",
              "    [theme=dark] .colab-df-convert:hover {\n",
              "      background-color: #434B5C;\n",
              "      box-shadow: 0px 1px 3px 1px rgba(0, 0, 0, 0.15);\n",
              "      filter: drop-shadow(0px 1px 2px rgba(0, 0, 0, 0.3));\n",
              "      fill: #FFFFFF;\n",
              "    }\n",
              "  </style>\n",
              "\n",
              "    <script>\n",
              "      const buttonEl =\n",
              "        document.querySelector('#df-0adceb4f-57e7-49b8-b2e9-bc9d076e8264 button.colab-df-convert');\n",
              "      buttonEl.style.display =\n",
              "        google.colab.kernel.accessAllowed ? 'block' : 'none';\n",
              "\n",
              "      async function convertToInteractive(key) {\n",
              "        const element = document.querySelector('#df-0adceb4f-57e7-49b8-b2e9-bc9d076e8264');\n",
              "        const dataTable =\n",
              "          await google.colab.kernel.invokeFunction('convertToInteractive',\n",
              "                                                    [key], {});\n",
              "        if (!dataTable) return;\n",
              "\n",
              "        const docLinkHtml = 'Like what you see? Visit the ' +\n",
              "          '<a target=\"_blank\" href=https://colab.research.google.com/notebooks/data_table.ipynb>data table notebook</a>'\n",
              "          + ' to learn more about interactive tables.';\n",
              "        element.innerHTML = '';\n",
              "        dataTable['output_type'] = 'display_data';\n",
              "        await google.colab.output.renderOutput(dataTable, element);\n",
              "        const docLink = document.createElement('div');\n",
              "        docLink.innerHTML = docLinkHtml;\n",
              "        element.appendChild(docLink);\n",
              "      }\n",
              "    </script>\n",
              "  </div>\n",
              "\n",
              "\n",
              "<div id=\"df-5eb4c8f0-debf-462c-9976-bd3b18cc7584\">\n",
              "  <button class=\"colab-df-quickchart\" onclick=\"quickchart('df-5eb4c8f0-debf-462c-9976-bd3b18cc7584')\"\n",
              "            title=\"Suggest charts\"\n",
              "            style=\"display:none;\">\n",
              "\n",
              "<svg xmlns=\"http://www.w3.org/2000/svg\" height=\"24px\"viewBox=\"0 0 24 24\"\n",
              "     width=\"24px\">\n",
              "    <g>\n",
              "        <path d=\"M19 3H5c-1.1 0-2 .9-2 2v14c0 1.1.9 2 2 2h14c1.1 0 2-.9 2-2V5c0-1.1-.9-2-2-2zM9 17H7v-7h2v7zm4 0h-2V7h2v10zm4 0h-2v-4h2v4z\"/>\n",
              "    </g>\n",
              "</svg>\n",
              "  </button>\n",
              "\n",
              "<style>\n",
              "  .colab-df-quickchart {\n",
              "      --bg-color: #E8F0FE;\n",
              "      --fill-color: #1967D2;\n",
              "      --hover-bg-color: #E2EBFA;\n",
              "      --hover-fill-color: #174EA6;\n",
              "      --disabled-fill-color: #AAA;\n",
              "      --disabled-bg-color: #DDD;\n",
              "  }\n",
              "\n",
              "  [theme=dark] .colab-df-quickchart {\n",
              "      --bg-color: #3B4455;\n",
              "      --fill-color: #D2E3FC;\n",
              "      --hover-bg-color: #434B5C;\n",
              "      --hover-fill-color: #FFFFFF;\n",
              "      --disabled-bg-color: #3B4455;\n",
              "      --disabled-fill-color: #666;\n",
              "  }\n",
              "\n",
              "  .colab-df-quickchart {\n",
              "    background-color: var(--bg-color);\n",
              "    border: none;\n",
              "    border-radius: 50%;\n",
              "    cursor: pointer;\n",
              "    display: none;\n",
              "    fill: var(--fill-color);\n",
              "    height: 32px;\n",
              "    padding: 0;\n",
              "    width: 32px;\n",
              "  }\n",
              "\n",
              "  .colab-df-quickchart:hover {\n",
              "    background-color: var(--hover-bg-color);\n",
              "    box-shadow: 0 1px 2px rgba(60, 64, 67, 0.3), 0 1px 3px 1px rgba(60, 64, 67, 0.15);\n",
              "    fill: var(--button-hover-fill-color);\n",
              "  }\n",
              "\n",
              "  .colab-df-quickchart-complete:disabled,\n",
              "  .colab-df-quickchart-complete:disabled:hover {\n",
              "    background-color: var(--disabled-bg-color);\n",
              "    fill: var(--disabled-fill-color);\n",
              "    box-shadow: none;\n",
              "  }\n",
              "\n",
              "  .colab-df-spinner {\n",
              "    border: 2px solid var(--fill-color);\n",
              "    border-color: transparent;\n",
              "    border-bottom-color: var(--fill-color);\n",
              "    animation:\n",
              "      spin 1s steps(1) infinite;\n",
              "  }\n",
              "\n",
              "  @keyframes spin {\n",
              "    0% {\n",
              "      border-color: transparent;\n",
              "      border-bottom-color: var(--fill-color);\n",
              "      border-left-color: var(--fill-color);\n",
              "    }\n",
              "    20% {\n",
              "      border-color: transparent;\n",
              "      border-left-color: var(--fill-color);\n",
              "      border-top-color: var(--fill-color);\n",
              "    }\n",
              "    30% {\n",
              "      border-color: transparent;\n",
              "      border-left-color: var(--fill-color);\n",
              "      border-top-color: var(--fill-color);\n",
              "      border-right-color: var(--fill-color);\n",
              "    }\n",
              "    40% {\n",
              "      border-color: transparent;\n",
              "      border-right-color: var(--fill-color);\n",
              "      border-top-color: var(--fill-color);\n",
              "    }\n",
              "    60% {\n",
              "      border-color: transparent;\n",
              "      border-right-color: var(--fill-color);\n",
              "    }\n",
              "    80% {\n",
              "      border-color: transparent;\n",
              "      border-right-color: var(--fill-color);\n",
              "      border-bottom-color: var(--fill-color);\n",
              "    }\n",
              "    90% {\n",
              "      border-color: transparent;\n",
              "      border-bottom-color: var(--fill-color);\n",
              "    }\n",
              "  }\n",
              "</style>\n",
              "\n",
              "  <script>\n",
              "    async function quickchart(key) {\n",
              "      const quickchartButtonEl =\n",
              "        document.querySelector('#' + key + ' button');\n",
              "      quickchartButtonEl.disabled = true;  // To prevent multiple clicks.\n",
              "      quickchartButtonEl.classList.add('colab-df-spinner');\n",
              "      try {\n",
              "        const charts = await google.colab.kernel.invokeFunction(\n",
              "            'suggestCharts', [key], {});\n",
              "      } catch (error) {\n",
              "        console.error('Error during call to suggestCharts:', error);\n",
              "      }\n",
              "      quickchartButtonEl.classList.remove('colab-df-spinner');\n",
              "      quickchartButtonEl.classList.add('colab-df-quickchart-complete');\n",
              "    }\n",
              "    (() => {\n",
              "      let quickchartButtonEl =\n",
              "        document.querySelector('#df-5eb4c8f0-debf-462c-9976-bd3b18cc7584 button');\n",
              "      quickchartButtonEl.style.display =\n",
              "        google.colab.kernel.accessAllowed ? 'block' : 'none';\n",
              "    })();\n",
              "  </script>\n",
              "</div>\n",
              "\n",
              "    </div>\n",
              "  </div>\n"
            ],
            "application/vnd.google.colaboratory.intrinsic+json": {
              "type": "dataframe",
              "variable_name": "df",
              "summary": "{\n  \"name\": \"df\",\n  \"rows\": 72238,\n  \"fields\": [\n    {\n      \"column\": \"Age\",\n      \"properties\": {\n        \"dtype\": \"number\",\n        \"std\": 9,\n        \"min\": 18,\n        \"max\": 56,\n        \"num_unique_values\": 39,\n        \"samples\": [\n          56,\n          51,\n          55\n        ],\n        \"semantic_type\": \"\",\n        \"description\": \"\"\n      }\n    },\n    {\n      \"column\": \"Annual_Income\",\n      \"properties\": {\n        \"dtype\": \"number\",\n        \"std\": 26.912260377698676,\n        \"min\": -0.5762270018265674,\n        \"max\": 452.7590915624281,\n        \"num_unique_values\": 13216,\n        \"samples\": [\n          -0.39496000835045053,\n          -0.3606733131705683,\n          0.10970929150662102\n        ],\n        \"semantic_type\": \"\",\n        \"description\": \"\"\n      }\n    },\n    {\n      \"column\": \"Num_Bank_Accounts\",\n      \"properties\": {\n        \"dtype\": \"number\",\n        \"std\": 116.72378607838827,\n        \"min\": 0.0,\n        \"max\": 1798.0,\n        \"num_unique_values\": 726,\n        \"samples\": [\n          211.0,\n          322.0,\n          1267.0\n        ],\n        \"semantic_type\": \"\",\n        \"description\": \"\"\n      }\n    },\n    {\n      \"column\": \"Num_Credit_Card\",\n      \"properties\": {\n        \"dtype\": \"number\",\n        \"std\": 128,\n        \"min\": 0,\n        \"max\": 1499,\n        \"num_unique_values\": 1006,\n        \"samples\": [\n          1166,\n          951,\n          327\n        ],\n        \"semantic_type\": \"\",\n        \"description\": \"\"\n      }\n    },\n    {\n      \"column\": \"Interest_Rate\",\n      \"properties\": {\n        \"dtype\": \"number\",\n        \"std\": 471,\n        \"min\": 1,\n        \"max\": 5797,\n        \"num_unique_values\": 1356,\n        \"samples\": [\n          4353,\n          4360,\n          1313\n        ],\n        \"semantic_type\": \"\",\n        \"description\": \"\"\n      }\n    },\n    {\n      \"column\": \"Num_of_Loan\",\n      \"properties\": {\n        \"dtype\": \"number\",\n        \"std\": 59.92300980844136,\n        \"min\": 0.0,\n        \"max\": 1496.0,\n        \"num_unique_values\": 309,\n        \"samples\": [\n          215.0,\n          6.0,\n          684.0\n        ],\n        \"semantic_type\": \"\",\n        \"description\": \"\"\n      }\n    },\n    {\n      \"column\": \"Delay_from_due_date\",\n      \"properties\": {\n        \"dtype\": \"number\",\n        \"std\": 14.727388023311239,\n        \"min\": 0.0,\n        \"max\": 67.0,\n        \"num_unique_values\": 69,\n        \"samples\": [\n          52.0,\n          21.073354744040532,\n          64.0\n        ],\n        \"semantic_type\": \"\",\n        \"description\": \"\"\n      }\n    },\n    {\n      \"column\": \"Changed_Credit_Limit\",\n      \"properties\": {\n        \"dtype\": \"number\",\n        \"std\": 6.587191883956427,\n        \"min\": 0.0,\n        \"max\": 36.49,\n        \"num_unique_values\": 3596,\n        \"samples\": [\n          4.029999999999999,\n          1.1,\n          13.58\n        ],\n        \"semantic_type\": \"\",\n        \"description\": \"\"\n      }\n    },\n    {\n      \"column\": \"Num_Credit_Inquiries\",\n      \"properties\": {\n        \"dtype\": \"number\",\n        \"std\": 189.80847781183567,\n        \"min\": 0.0,\n        \"max\": 2597.0,\n        \"num_unique_values\": 964,\n        \"samples\": [\n          1472.0,\n          1127.0,\n          2225.0\n        ],\n        \"semantic_type\": \"\",\n        \"description\": \"\"\n      }\n    },\n    {\n      \"column\": \"Credit_Utilization_Ratio\",\n      \"properties\": {\n        \"dtype\": \"number\",\n        \"std\": 5.112848362161835,\n        \"min\": 20.0,\n        \"max\": 50.00000000000001,\n        \"num_unique_values\": 72238,\n        \"samples\": [\n          27.52089696334929,\n          30.672595622359427,\n          26.753106437687983\n        ],\n        \"semantic_type\": \"\",\n        \"description\": \"\"\n      }\n    },\n    {\n      \"column\": \"Credit_Score\",\n      \"properties\": {\n        \"dtype\": \"number\",\n        \"std\": 0,\n        \"min\": 0,\n        \"max\": 2,\n        \"num_unique_values\": 3,\n        \"samples\": [\n          0,\n          1,\n          2\n        ],\n        \"semantic_type\": \"\",\n        \"description\": \"\"\n      }\n    },\n    {\n      \"column\": \"encoded_Occupation\",\n      \"properties\": {\n        \"dtype\": \"number\",\n        \"std\": 209,\n        \"min\": 4233,\n        \"max\": 5121,\n        \"num_unique_values\": 16,\n        \"samples\": [\n          4563,\n          4467,\n          4496\n        ],\n        \"semantic_type\": \"\",\n        \"description\": \"\"\n      }\n    },\n    {\n      \"column\": \"encoded_Credit_Mix\",\n      \"properties\": {\n        \"dtype\": \"number\",\n        \"std\": 6771,\n        \"min\": 17205,\n        \"max\": 33027,\n        \"num_unique_values\": 3,\n        \"samples\": [\n          22006,\n          33027,\n          17205\n        ],\n        \"semantic_type\": \"\",\n        \"description\": \"\"\n      }\n    },\n    {\n      \"column\": \"encoded_Payment_of_Min_Amount\",\n      \"properties\": {\n        \"dtype\": \"number\",\n        \"std\": 9615,\n        \"min\": 8697,\n        \"max\": 37760,\n        \"num_unique_values\": 3,\n        \"samples\": [\n          25781,\n          8697,\n          37760\n        ],\n        \"semantic_type\": \"\",\n        \"description\": \"\"\n      }\n    },\n    {\n      \"column\": \"encoded_Payment_Behaviour\",\n      \"properties\": {\n        \"dtype\": \"number\",\n        \"std\": 4269,\n        \"min\": 5527,\n        \"max\": 18318,\n        \"num_unique_values\": 7,\n        \"samples\": [\n          7560,\n          18318,\n          8166\n        ],\n        \"semantic_type\": \"\",\n        \"description\": \"\"\n      }\n    }\n  ]\n}"
            }
          },
          "metadata": {},
          "execution_count": 305
        }
      ]
    },
    {
      "cell_type": "markdown",
      "source": [
        "# Machine Learning Models"
      ],
      "metadata": {
        "id": "ENUshw2xzlX_"
      }
    },
    {
      "cell_type": "markdown",
      "source": [
        "## Train Test Split"
      ],
      "metadata": {
        "id": "UlH0UekMzott"
      }
    },
    {
      "cell_type": "code",
      "source": [
        "#dependent and independent variables\n",
        "X = df.drop(columns='Credit_Score',axis=1)\n",
        "y = df['Credit_Score']\n"
      ],
      "metadata": {
        "id": "v_2VexyZzkuM"
      },
      "execution_count": 307,
      "outputs": []
    },
    {
      "cell_type": "code",
      "source": [
        "X.head()"
      ],
      "metadata": {
        "colab": {
          "base_uri": "https://localhost:8080/",
          "height": 226
        },
        "id": "ehB9meI8BYP_",
        "outputId": "3c14c982-608f-41b5-bea8-2bb8d36c4f5c"
      },
      "execution_count": 308,
      "outputs": [
        {
          "output_type": "execute_result",
          "data": {
            "text/plain": [
              "   Age  Annual_Income  Num_Bank_Accounts  Num_Credit_Card  Interest_Rate  \\\n",
              "0   23      -0.349322                3.0                4              3   \n",
              "1   23      -0.349322                3.0                4              3   \n",
              "2   23      -0.349322                3.0                4              3   \n",
              "3   23      -0.349322                3.0                4              3   \n",
              "4   23      -0.349322                3.0                4              3   \n",
              "\n",
              "   Num_of_Loan  Delay_from_due_date  Changed_Credit_Limit  \\\n",
              "0          4.0            21.073355                 11.27   \n",
              "1          4.0             5.000000                  6.27   \n",
              "2          4.0             6.000000                 11.27   \n",
              "3          4.0             8.000000                  9.27   \n",
              "4          4.0             3.000000                 11.27   \n",
              "\n",
              "   Num_Credit_Inquiries  Credit_Utilization_Ratio  encoded_Occupation  \\\n",
              "0                   4.0                 31.944960                4563   \n",
              "1                   4.0                 31.377862                4563   \n",
              "2                   4.0                 24.797347                4563   \n",
              "3                   4.0                 27.262259                4563   \n",
              "4                   4.0                 23.933795                4563   \n",
              "\n",
              "   encoded_Credit_Mix  encoded_Payment_of_Min_Amount  \\\n",
              "0               22006                          25781   \n",
              "1               22006                          25781   \n",
              "2               22006                          25781   \n",
              "3               22006                          25781   \n",
              "4               22006                          25781   \n",
              "\n",
              "   encoded_Payment_Behaviour  \n",
              "0                       7560  \n",
              "1                      18318  \n",
              "2                      12725  \n",
              "3                       5527  \n",
              "4                      12725  "
            ],
            "text/html": [
              "\n",
              "  <div id=\"df-6d677876-1c51-46b7-8b8c-c5c1fac96d48\" class=\"colab-df-container\">\n",
              "    <div>\n",
              "<style scoped>\n",
              "    .dataframe tbody tr th:only-of-type {\n",
              "        vertical-align: middle;\n",
              "    }\n",
              "\n",
              "    .dataframe tbody tr th {\n",
              "        vertical-align: top;\n",
              "    }\n",
              "\n",
              "    .dataframe thead th {\n",
              "        text-align: right;\n",
              "    }\n",
              "</style>\n",
              "<table border=\"1\" class=\"dataframe\">\n",
              "  <thead>\n",
              "    <tr style=\"text-align: right;\">\n",
              "      <th></th>\n",
              "      <th>Age</th>\n",
              "      <th>Annual_Income</th>\n",
              "      <th>Num_Bank_Accounts</th>\n",
              "      <th>Num_Credit_Card</th>\n",
              "      <th>Interest_Rate</th>\n",
              "      <th>Num_of_Loan</th>\n",
              "      <th>Delay_from_due_date</th>\n",
              "      <th>Changed_Credit_Limit</th>\n",
              "      <th>Num_Credit_Inquiries</th>\n",
              "      <th>Credit_Utilization_Ratio</th>\n",
              "      <th>encoded_Occupation</th>\n",
              "      <th>encoded_Credit_Mix</th>\n",
              "      <th>encoded_Payment_of_Min_Amount</th>\n",
              "      <th>encoded_Payment_Behaviour</th>\n",
              "    </tr>\n",
              "  </thead>\n",
              "  <tbody>\n",
              "    <tr>\n",
              "      <th>0</th>\n",
              "      <td>23</td>\n",
              "      <td>-0.349322</td>\n",
              "      <td>3.0</td>\n",
              "      <td>4</td>\n",
              "      <td>3</td>\n",
              "      <td>4.0</td>\n",
              "      <td>21.073355</td>\n",
              "      <td>11.27</td>\n",
              "      <td>4.0</td>\n",
              "      <td>31.944960</td>\n",
              "      <td>4563</td>\n",
              "      <td>22006</td>\n",
              "      <td>25781</td>\n",
              "      <td>7560</td>\n",
              "    </tr>\n",
              "    <tr>\n",
              "      <th>1</th>\n",
              "      <td>23</td>\n",
              "      <td>-0.349322</td>\n",
              "      <td>3.0</td>\n",
              "      <td>4</td>\n",
              "      <td>3</td>\n",
              "      <td>4.0</td>\n",
              "      <td>5.000000</td>\n",
              "      <td>6.27</td>\n",
              "      <td>4.0</td>\n",
              "      <td>31.377862</td>\n",
              "      <td>4563</td>\n",
              "      <td>22006</td>\n",
              "      <td>25781</td>\n",
              "      <td>18318</td>\n",
              "    </tr>\n",
              "    <tr>\n",
              "      <th>2</th>\n",
              "      <td>23</td>\n",
              "      <td>-0.349322</td>\n",
              "      <td>3.0</td>\n",
              "      <td>4</td>\n",
              "      <td>3</td>\n",
              "      <td>4.0</td>\n",
              "      <td>6.000000</td>\n",
              "      <td>11.27</td>\n",
              "      <td>4.0</td>\n",
              "      <td>24.797347</td>\n",
              "      <td>4563</td>\n",
              "      <td>22006</td>\n",
              "      <td>25781</td>\n",
              "      <td>12725</td>\n",
              "    </tr>\n",
              "    <tr>\n",
              "      <th>3</th>\n",
              "      <td>23</td>\n",
              "      <td>-0.349322</td>\n",
              "      <td>3.0</td>\n",
              "      <td>4</td>\n",
              "      <td>3</td>\n",
              "      <td>4.0</td>\n",
              "      <td>8.000000</td>\n",
              "      <td>9.27</td>\n",
              "      <td>4.0</td>\n",
              "      <td>27.262259</td>\n",
              "      <td>4563</td>\n",
              "      <td>22006</td>\n",
              "      <td>25781</td>\n",
              "      <td>5527</td>\n",
              "    </tr>\n",
              "    <tr>\n",
              "      <th>4</th>\n",
              "      <td>23</td>\n",
              "      <td>-0.349322</td>\n",
              "      <td>3.0</td>\n",
              "      <td>4</td>\n",
              "      <td>3</td>\n",
              "      <td>4.0</td>\n",
              "      <td>3.000000</td>\n",
              "      <td>11.27</td>\n",
              "      <td>4.0</td>\n",
              "      <td>23.933795</td>\n",
              "      <td>4563</td>\n",
              "      <td>22006</td>\n",
              "      <td>25781</td>\n",
              "      <td>12725</td>\n",
              "    </tr>\n",
              "  </tbody>\n",
              "</table>\n",
              "</div>\n",
              "    <div class=\"colab-df-buttons\">\n",
              "\n",
              "  <div class=\"colab-df-container\">\n",
              "    <button class=\"colab-df-convert\" onclick=\"convertToInteractive('df-6d677876-1c51-46b7-8b8c-c5c1fac96d48')\"\n",
              "            title=\"Convert this dataframe to an interactive table.\"\n",
              "            style=\"display:none;\">\n",
              "\n",
              "  <svg xmlns=\"http://www.w3.org/2000/svg\" height=\"24px\" viewBox=\"0 -960 960 960\">\n",
              "    <path d=\"M120-120v-720h720v720H120Zm60-500h600v-160H180v160Zm220 220h160v-160H400v160Zm0 220h160v-160H400v160ZM180-400h160v-160H180v160Zm440 0h160v-160H620v160ZM180-180h160v-160H180v160Zm440 0h160v-160H620v160Z\"/>\n",
              "  </svg>\n",
              "    </button>\n",
              "\n",
              "  <style>\n",
              "    .colab-df-container {\n",
              "      display:flex;\n",
              "      gap: 12px;\n",
              "    }\n",
              "\n",
              "    .colab-df-convert {\n",
              "      background-color: #E8F0FE;\n",
              "      border: none;\n",
              "      border-radius: 50%;\n",
              "      cursor: pointer;\n",
              "      display: none;\n",
              "      fill: #1967D2;\n",
              "      height: 32px;\n",
              "      padding: 0 0 0 0;\n",
              "      width: 32px;\n",
              "    }\n",
              "\n",
              "    .colab-df-convert:hover {\n",
              "      background-color: #E2EBFA;\n",
              "      box-shadow: 0px 1px 2px rgba(60, 64, 67, 0.3), 0px 1px 3px 1px rgba(60, 64, 67, 0.15);\n",
              "      fill: #174EA6;\n",
              "    }\n",
              "\n",
              "    .colab-df-buttons div {\n",
              "      margin-bottom: 4px;\n",
              "    }\n",
              "\n",
              "    [theme=dark] .colab-df-convert {\n",
              "      background-color: #3B4455;\n",
              "      fill: #D2E3FC;\n",
              "    }\n",
              "\n",
              "    [theme=dark] .colab-df-convert:hover {\n",
              "      background-color: #434B5C;\n",
              "      box-shadow: 0px 1px 3px 1px rgba(0, 0, 0, 0.15);\n",
              "      filter: drop-shadow(0px 1px 2px rgba(0, 0, 0, 0.3));\n",
              "      fill: #FFFFFF;\n",
              "    }\n",
              "  </style>\n",
              "\n",
              "    <script>\n",
              "      const buttonEl =\n",
              "        document.querySelector('#df-6d677876-1c51-46b7-8b8c-c5c1fac96d48 button.colab-df-convert');\n",
              "      buttonEl.style.display =\n",
              "        google.colab.kernel.accessAllowed ? 'block' : 'none';\n",
              "\n",
              "      async function convertToInteractive(key) {\n",
              "        const element = document.querySelector('#df-6d677876-1c51-46b7-8b8c-c5c1fac96d48');\n",
              "        const dataTable =\n",
              "          await google.colab.kernel.invokeFunction('convertToInteractive',\n",
              "                                                    [key], {});\n",
              "        if (!dataTable) return;\n",
              "\n",
              "        const docLinkHtml = 'Like what you see? Visit the ' +\n",
              "          '<a target=\"_blank\" href=https://colab.research.google.com/notebooks/data_table.ipynb>data table notebook</a>'\n",
              "          + ' to learn more about interactive tables.';\n",
              "        element.innerHTML = '';\n",
              "        dataTable['output_type'] = 'display_data';\n",
              "        await google.colab.output.renderOutput(dataTable, element);\n",
              "        const docLink = document.createElement('div');\n",
              "        docLink.innerHTML = docLinkHtml;\n",
              "        element.appendChild(docLink);\n",
              "      }\n",
              "    </script>\n",
              "  </div>\n",
              "\n",
              "\n",
              "<div id=\"df-d006336a-70ac-48ed-a044-b8427bcb1554\">\n",
              "  <button class=\"colab-df-quickchart\" onclick=\"quickchart('df-d006336a-70ac-48ed-a044-b8427bcb1554')\"\n",
              "            title=\"Suggest charts\"\n",
              "            style=\"display:none;\">\n",
              "\n",
              "<svg xmlns=\"http://www.w3.org/2000/svg\" height=\"24px\"viewBox=\"0 0 24 24\"\n",
              "     width=\"24px\">\n",
              "    <g>\n",
              "        <path d=\"M19 3H5c-1.1 0-2 .9-2 2v14c0 1.1.9 2 2 2h14c1.1 0 2-.9 2-2V5c0-1.1-.9-2-2-2zM9 17H7v-7h2v7zm4 0h-2V7h2v10zm4 0h-2v-4h2v4z\"/>\n",
              "    </g>\n",
              "</svg>\n",
              "  </button>\n",
              "\n",
              "<style>\n",
              "  .colab-df-quickchart {\n",
              "      --bg-color: #E8F0FE;\n",
              "      --fill-color: #1967D2;\n",
              "      --hover-bg-color: #E2EBFA;\n",
              "      --hover-fill-color: #174EA6;\n",
              "      --disabled-fill-color: #AAA;\n",
              "      --disabled-bg-color: #DDD;\n",
              "  }\n",
              "\n",
              "  [theme=dark] .colab-df-quickchart {\n",
              "      --bg-color: #3B4455;\n",
              "      --fill-color: #D2E3FC;\n",
              "      --hover-bg-color: #434B5C;\n",
              "      --hover-fill-color: #FFFFFF;\n",
              "      --disabled-bg-color: #3B4455;\n",
              "      --disabled-fill-color: #666;\n",
              "  }\n",
              "\n",
              "  .colab-df-quickchart {\n",
              "    background-color: var(--bg-color);\n",
              "    border: none;\n",
              "    border-radius: 50%;\n",
              "    cursor: pointer;\n",
              "    display: none;\n",
              "    fill: var(--fill-color);\n",
              "    height: 32px;\n",
              "    padding: 0;\n",
              "    width: 32px;\n",
              "  }\n",
              "\n",
              "  .colab-df-quickchart:hover {\n",
              "    background-color: var(--hover-bg-color);\n",
              "    box-shadow: 0 1px 2px rgba(60, 64, 67, 0.3), 0 1px 3px 1px rgba(60, 64, 67, 0.15);\n",
              "    fill: var(--button-hover-fill-color);\n",
              "  }\n",
              "\n",
              "  .colab-df-quickchart-complete:disabled,\n",
              "  .colab-df-quickchart-complete:disabled:hover {\n",
              "    background-color: var(--disabled-bg-color);\n",
              "    fill: var(--disabled-fill-color);\n",
              "    box-shadow: none;\n",
              "  }\n",
              "\n",
              "  .colab-df-spinner {\n",
              "    border: 2px solid var(--fill-color);\n",
              "    border-color: transparent;\n",
              "    border-bottom-color: var(--fill-color);\n",
              "    animation:\n",
              "      spin 1s steps(1) infinite;\n",
              "  }\n",
              "\n",
              "  @keyframes spin {\n",
              "    0% {\n",
              "      border-color: transparent;\n",
              "      border-bottom-color: var(--fill-color);\n",
              "      border-left-color: var(--fill-color);\n",
              "    }\n",
              "    20% {\n",
              "      border-color: transparent;\n",
              "      border-left-color: var(--fill-color);\n",
              "      border-top-color: var(--fill-color);\n",
              "    }\n",
              "    30% {\n",
              "      border-color: transparent;\n",
              "      border-left-color: var(--fill-color);\n",
              "      border-top-color: var(--fill-color);\n",
              "      border-right-color: var(--fill-color);\n",
              "    }\n",
              "    40% {\n",
              "      border-color: transparent;\n",
              "      border-right-color: var(--fill-color);\n",
              "      border-top-color: var(--fill-color);\n",
              "    }\n",
              "    60% {\n",
              "      border-color: transparent;\n",
              "      border-right-color: var(--fill-color);\n",
              "    }\n",
              "    80% {\n",
              "      border-color: transparent;\n",
              "      border-right-color: var(--fill-color);\n",
              "      border-bottom-color: var(--fill-color);\n",
              "    }\n",
              "    90% {\n",
              "      border-color: transparent;\n",
              "      border-bottom-color: var(--fill-color);\n",
              "    }\n",
              "  }\n",
              "</style>\n",
              "\n",
              "  <script>\n",
              "    async function quickchart(key) {\n",
              "      const quickchartButtonEl =\n",
              "        document.querySelector('#' + key + ' button');\n",
              "      quickchartButtonEl.disabled = true;  // To prevent multiple clicks.\n",
              "      quickchartButtonEl.classList.add('colab-df-spinner');\n",
              "      try {\n",
              "        const charts = await google.colab.kernel.invokeFunction(\n",
              "            'suggestCharts', [key], {});\n",
              "      } catch (error) {\n",
              "        console.error('Error during call to suggestCharts:', error);\n",
              "      }\n",
              "      quickchartButtonEl.classList.remove('colab-df-spinner');\n",
              "      quickchartButtonEl.classList.add('colab-df-quickchart-complete');\n",
              "    }\n",
              "    (() => {\n",
              "      let quickchartButtonEl =\n",
              "        document.querySelector('#df-d006336a-70ac-48ed-a044-b8427bcb1554 button');\n",
              "      quickchartButtonEl.style.display =\n",
              "        google.colab.kernel.accessAllowed ? 'block' : 'none';\n",
              "    })();\n",
              "  </script>\n",
              "</div>\n",
              "\n",
              "    </div>\n",
              "  </div>\n"
            ],
            "application/vnd.google.colaboratory.intrinsic+json": {
              "type": "dataframe",
              "variable_name": "X",
              "summary": "{\n  \"name\": \"X\",\n  \"rows\": 72238,\n  \"fields\": [\n    {\n      \"column\": \"Age\",\n      \"properties\": {\n        \"dtype\": \"number\",\n        \"std\": 9,\n        \"min\": 18,\n        \"max\": 56,\n        \"num_unique_values\": 39,\n        \"samples\": [\n          56,\n          51,\n          55\n        ],\n        \"semantic_type\": \"\",\n        \"description\": \"\"\n      }\n    },\n    {\n      \"column\": \"Annual_Income\",\n      \"properties\": {\n        \"dtype\": \"number\",\n        \"std\": 26.912260377698676,\n        \"min\": -0.5762270018265674,\n        \"max\": 452.7590915624281,\n        \"num_unique_values\": 13216,\n        \"samples\": [\n          -0.39496000835045053,\n          -0.3606733131705683,\n          0.10970929150662102\n        ],\n        \"semantic_type\": \"\",\n        \"description\": \"\"\n      }\n    },\n    {\n      \"column\": \"Num_Bank_Accounts\",\n      \"properties\": {\n        \"dtype\": \"number\",\n        \"std\": 116.72378607838827,\n        \"min\": 0.0,\n        \"max\": 1798.0,\n        \"num_unique_values\": 726,\n        \"samples\": [\n          211.0,\n          322.0,\n          1267.0\n        ],\n        \"semantic_type\": \"\",\n        \"description\": \"\"\n      }\n    },\n    {\n      \"column\": \"Num_Credit_Card\",\n      \"properties\": {\n        \"dtype\": \"number\",\n        \"std\": 128,\n        \"min\": 0,\n        \"max\": 1499,\n        \"num_unique_values\": 1006,\n        \"samples\": [\n          1166,\n          951,\n          327\n        ],\n        \"semantic_type\": \"\",\n        \"description\": \"\"\n      }\n    },\n    {\n      \"column\": \"Interest_Rate\",\n      \"properties\": {\n        \"dtype\": \"number\",\n        \"std\": 471,\n        \"min\": 1,\n        \"max\": 5797,\n        \"num_unique_values\": 1356,\n        \"samples\": [\n          4353,\n          4360,\n          1313\n        ],\n        \"semantic_type\": \"\",\n        \"description\": \"\"\n      }\n    },\n    {\n      \"column\": \"Num_of_Loan\",\n      \"properties\": {\n        \"dtype\": \"number\",\n        \"std\": 59.92300980844136,\n        \"min\": 0.0,\n        \"max\": 1496.0,\n        \"num_unique_values\": 309,\n        \"samples\": [\n          215.0,\n          6.0,\n          684.0\n        ],\n        \"semantic_type\": \"\",\n        \"description\": \"\"\n      }\n    },\n    {\n      \"column\": \"Delay_from_due_date\",\n      \"properties\": {\n        \"dtype\": \"number\",\n        \"std\": 14.727388023311239,\n        \"min\": 0.0,\n        \"max\": 67.0,\n        \"num_unique_values\": 69,\n        \"samples\": [\n          52.0,\n          21.073354744040532,\n          64.0\n        ],\n        \"semantic_type\": \"\",\n        \"description\": \"\"\n      }\n    },\n    {\n      \"column\": \"Changed_Credit_Limit\",\n      \"properties\": {\n        \"dtype\": \"number\",\n        \"std\": 6.587191883956427,\n        \"min\": 0.0,\n        \"max\": 36.49,\n        \"num_unique_values\": 3596,\n        \"samples\": [\n          4.029999999999999,\n          1.1,\n          13.58\n        ],\n        \"semantic_type\": \"\",\n        \"description\": \"\"\n      }\n    },\n    {\n      \"column\": \"Num_Credit_Inquiries\",\n      \"properties\": {\n        \"dtype\": \"number\",\n        \"std\": 189.80847781183567,\n        \"min\": 0.0,\n        \"max\": 2597.0,\n        \"num_unique_values\": 964,\n        \"samples\": [\n          1472.0,\n          1127.0,\n          2225.0\n        ],\n        \"semantic_type\": \"\",\n        \"description\": \"\"\n      }\n    },\n    {\n      \"column\": \"Credit_Utilization_Ratio\",\n      \"properties\": {\n        \"dtype\": \"number\",\n        \"std\": 5.112848362161835,\n        \"min\": 20.0,\n        \"max\": 50.00000000000001,\n        \"num_unique_values\": 72238,\n        \"samples\": [\n          27.52089696334929,\n          30.672595622359427,\n          26.753106437687983\n        ],\n        \"semantic_type\": \"\",\n        \"description\": \"\"\n      }\n    },\n    {\n      \"column\": \"encoded_Occupation\",\n      \"properties\": {\n        \"dtype\": \"number\",\n        \"std\": 209,\n        \"min\": 4233,\n        \"max\": 5121,\n        \"num_unique_values\": 16,\n        \"samples\": [\n          4563,\n          4467,\n          4496\n        ],\n        \"semantic_type\": \"\",\n        \"description\": \"\"\n      }\n    },\n    {\n      \"column\": \"encoded_Credit_Mix\",\n      \"properties\": {\n        \"dtype\": \"number\",\n        \"std\": 6771,\n        \"min\": 17205,\n        \"max\": 33027,\n        \"num_unique_values\": 3,\n        \"samples\": [\n          22006,\n          33027,\n          17205\n        ],\n        \"semantic_type\": \"\",\n        \"description\": \"\"\n      }\n    },\n    {\n      \"column\": \"encoded_Payment_of_Min_Amount\",\n      \"properties\": {\n        \"dtype\": \"number\",\n        \"std\": 9615,\n        \"min\": 8697,\n        \"max\": 37760,\n        \"num_unique_values\": 3,\n        \"samples\": [\n          25781,\n          8697,\n          37760\n        ],\n        \"semantic_type\": \"\",\n        \"description\": \"\"\n      }\n    },\n    {\n      \"column\": \"encoded_Payment_Behaviour\",\n      \"properties\": {\n        \"dtype\": \"number\",\n        \"std\": 4269,\n        \"min\": 5527,\n        \"max\": 18318,\n        \"num_unique_values\": 7,\n        \"samples\": [\n          7560,\n          18318,\n          8166\n        ],\n        \"semantic_type\": \"\",\n        \"description\": \"\"\n      }\n    }\n  ]\n}"
            }
          },
          "metadata": {},
          "execution_count": 308
        }
      ]
    },
    {
      "cell_type": "code",
      "source": [
        "y.head()"
      ],
      "metadata": {
        "colab": {
          "base_uri": "https://localhost:8080/"
        },
        "id": "V2UTFGhzBfHg",
        "outputId": "da9187b0-54d7-4314-a62f-b2ff347c2f24"
      },
      "execution_count": 309,
      "outputs": [
        {
          "output_type": "execute_result",
          "data": {
            "text/plain": [
              "0    0\n",
              "1    0\n",
              "2    0\n",
              "3    0\n",
              "4    1\n",
              "Name: Credit_Score, dtype: int64"
            ]
          },
          "metadata": {},
          "execution_count": 309
        }
      ]
    },
    {
      "cell_type": "code",
      "source": [
        "#split into train and test\n",
        "X_train, X_test, y_train, y_test = train_test_split(X, y, test_size=0.2, random_state=42)"
      ],
      "metadata": {
        "id": "0X-8n2D6ByJ8"
      },
      "execution_count": 310,
      "outputs": []
    },
    {
      "cell_type": "markdown",
      "source": [
        "## Random Forest Classifier"
      ],
      "metadata": {
        "id": "X3pdhFGeCYe8"
      }
    },
    {
      "cell_type": "code",
      "source": [],
      "metadata": {
        "id": "vClVkQieChRT"
      },
      "execution_count": null,
      "outputs": []
    },
    {
      "cell_type": "code",
      "source": [],
      "metadata": {
        "id": "RL_VwrQKCheJ"
      },
      "execution_count": null,
      "outputs": []
    },
    {
      "cell_type": "markdown",
      "source": [
        "## Decision Tree Classifier"
      ],
      "metadata": {
        "id": "IZSLy56FChzu"
      }
    },
    {
      "cell_type": "code",
      "source": [],
      "metadata": {
        "id": "5bR7vRHDCSR1"
      },
      "execution_count": null,
      "outputs": []
    },
    {
      "cell_type": "markdown",
      "source": [],
      "metadata": {
        "id": "jFcRRCqzCnu5"
      }
    },
    {
      "cell_type": "markdown",
      "source": [
        "## Hyperparameter Optimization"
      ],
      "metadata": {
        "id": "5HqmiDS8CyCd"
      }
    },
    {
      "cell_type": "markdown",
      "source": [
        "## Model Evaluation"
      ],
      "metadata": {
        "id": "anjCLwRqCnzI"
      }
    },
    {
      "cell_type": "code",
      "source": [],
      "metadata": {
        "id": "KTp7rg_nCpoD"
      },
      "execution_count": null,
      "outputs": []
    }
  ]
}